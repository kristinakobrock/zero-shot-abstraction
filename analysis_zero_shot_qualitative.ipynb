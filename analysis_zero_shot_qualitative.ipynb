{
 "cells": [
  {
   "cell_type": "code",
   "execution_count": 75,
   "metadata": {
    "ExecuteTime": {
     "end_time": "2025-01-27T14:01:38.382102Z",
     "start_time": "2025-01-27T14:01:38.377817Z"
    }
   },
   "outputs": [],
   "source": [
    "import random\n",
    "import torch\n",
    "from utils.load_results import *\n",
    "from utils.qualitative_utils import *\n",
    "import pandas as pd\n",
    "from matplotlib import pyplot as plt\n",
    "plt.style.use('default')\n",
    "from utils.analysis_from_interaction import *\n",
    "import os\n",
    "if not os.path.exists('analysis'):\n",
    "    os.makedirs('analysis')"
   ]
  },
  {
   "cell_type": "markdown",
   "source": [
    "### Configurations"
   ],
   "metadata": {
    "collapsed": false
   }
  },
  {
   "cell_type": "code",
   "execution_count": 1,
   "metadata": {
    "ExecuteTime": {
     "end_time": "2025-01-27T10:57:16.720018Z",
     "start_time": "2025-01-27T10:57:16.718622Z"
    }
   },
   "outputs": [],
   "source": [
    "datasets = ['(3,4)', '(3,8)', '(3,16)', '(4,4)', '(4,8)', '(5,4)']\n",
    "n_values = [4, 8, 16, 4, 8, 4]\n",
    "n_attributes = [3, 3, 3, 4, 4, 5]\n",
    "vocab_sizes = [16, 28, 52, 16, 28, 16]\n",
    "n_epochs = 300\n",
    "n_runs = 5\n",
    "n_datasets = len(datasets)\n",
    "paths = ['results/' + d + '_game_size_10_vsf_3' for d in datasets]"
   ]
  },
  {
   "cell_type": "code",
   "execution_count": 77,
   "metadata": {
    "ExecuteTime": {
     "end_time": "2025-01-27T14:31:02.360614Z",
     "start_time": "2025-01-27T14:31:02.355826Z"
    }
   },
   "outputs": [],
   "source": [
    "context_unaware = False # whether original or context_unaware simulations are evaluated\n",
    "zero_shot = True # whether zero-shot simulations are evaluated\n",
    "zero_shot_test = 'generic' # 'generic' or 'specific'\n",
    "test_interactions = True # whether scores should be calculated on test interactions (only with zero shot)\n",
    "zero_shot_test_ds = 'test_sampled_unscaled' # 'test' or 'test_sampled_unscaled' or 'test_unscaled' or 'test_fine' \n",
    "setting = \"\"\n",
    "if context_unaware:\n",
    "    setting = setting + 'context_unaware'\n",
    "else:\n",
    "    setting = setting + 'standard'\n",
    "if zero_shot:\n",
    "    setting = setting + '/zero_shot/' + zero_shot_test"
   ]
  },
  {
   "attachments": {},
   "cell_type": "markdown",
   "metadata": {},
   "source": [
    "### Determine vocab size and message reuse"
   ]
  },
  {
   "cell_type": "code",
   "execution_count": 13,
   "metadata": {
    "ExecuteTime": {
     "end_time": "2025-01-27T10:54:40.790652Z",
     "start_time": "2025-01-27T10:54:06.608130Z"
    }
   },
   "outputs": [
    {
     "name": "stdout",
     "output_type": "stream",
     "text": [
      "(3,4)\n",
      "16 symbols from the alphabet have been actually used during training, validation and testing.\n",
      "31 novel messages used for the 64 novel concepts\n",
      "15 symbols from the alphabet have been actually used during training, validation and testing.\n",
      "19 novel messages used for the 64 novel concepts\n",
      "14 symbols from the alphabet have been actually used during training, validation and testing.\n",
      "19 novel messages used for the 64 novel concepts\n",
      "15 symbols from the alphabet have been actually used during training, validation and testing.\n",
      "28 novel messages used for the 64 novel concepts\n",
      "16 symbols from the alphabet have been actually used during training, validation and testing.\n",
      "28 novel messages used for the 64 novel concepts\n",
      "(3,8)\n",
      "27 symbols from the alphabet have been actually used during training, validation and testing.\n",
      "218 novel messages used for the 512 novel concepts\n",
      "25 symbols from the alphabet have been actually used during training, validation and testing.\n",
      "180 novel messages used for the 512 novel concepts\n",
      "23 symbols from the alphabet have been actually used during training, validation and testing.\n",
      "130 novel messages used for the 512 novel concepts\n",
      "28 symbols from the alphabet have been actually used during training, validation and testing.\n",
      "239 novel messages used for the 512 novel concepts\n",
      "28 symbols from the alphabet have been actually used during training, validation and testing.\n",
      "195 novel messages used for the 512 novel concepts\n",
      "(3,16)\n",
      "48 symbols from the alphabet have been actually used during training, validation and testing.\n",
      "590 novel messages used for the 4096 novel concepts\n",
      "52 symbols from the alphabet have been actually used during training, validation and testing.\n",
      "422 novel messages used for the 4096 novel concepts\n",
      "46 symbols from the alphabet have been actually used during training, validation and testing.\n",
      "520 novel messages used for the 4096 novel concepts\n",
      "49 symbols from the alphabet have been actually used during training, validation and testing.\n",
      "701 novel messages used for the 4096 novel concepts\n",
      "43 symbols from the alphabet have been actually used during training, validation and testing.\n",
      "400 novel messages used for the 4096 novel concepts\n",
      "(4,4)\n",
      "16 symbols from the alphabet have been actually used during training, validation and testing.\n",
      "127 novel messages used for the 256 novel concepts\n",
      "16 symbols from the alphabet have been actually used during training, validation and testing.\n",
      "168 novel messages used for the 256 novel concepts\n",
      "16 symbols from the alphabet have been actually used during training, validation and testing.\n",
      "123 novel messages used for the 256 novel concepts\n",
      "16 symbols from the alphabet have been actually used during training, validation and testing.\n",
      "143 novel messages used for the 256 novel concepts\n",
      "16 symbols from the alphabet have been actually used during training, validation and testing.\n",
      "99 novel messages used for the 256 novel concepts\n",
      "(4,8)\n",
      "28 symbols from the alphabet have been actually used during training, validation and testing.\n",
      "986 novel messages used for the 4096 novel concepts\n",
      "28 symbols from the alphabet have been actually used during training, validation and testing.\n",
      "773 novel messages used for the 4096 novel concepts\n",
      "28 symbols from the alphabet have been actually used during training, validation and testing.\n",
      "905 novel messages used for the 4096 novel concepts\n",
      "28 symbols from the alphabet have been actually used during training, validation and testing.\n",
      "197 novel messages used for the 4096 novel concepts\n",
      "28 symbols from the alphabet have been actually used during training, validation and testing.\n",
      "1418 novel messages used for the 4096 novel concepts\n",
      "(5,4)\n",
      "16 symbols from the alphabet have been actually used during training, validation and testing.\n",
      "327 novel messages used for the 1024 novel concepts\n",
      "16 symbols from the alphabet have been actually used during training, validation and testing.\n",
      "235 novel messages used for the 1024 novel concepts\n",
      "16 symbols from the alphabet have been actually used during training, validation and testing.\n",
      "198 novel messages used for the 1024 novel concepts\n",
      "16 symbols from the alphabet have been actually used during training, validation and testing.\n",
      "383 novel messages used for the 1024 novel concepts\n",
      "16 symbols from the alphabet have been actually used during training, validation and testing.\n",
      "435 novel messages used for the 1024 novel concepts\n"
     ]
    }
   ],
   "source": [
    "# go through all datasets\n",
    "for i, d in enumerate(datasets):\n",
    "    print(d)\n",
    "    for run in range(n_runs):\n",
    "        path_to_run = paths[i] + '/' + str(setting) +'/' + str(run) + '/'\n",
    "        path_to_interaction_train = (path_to_run + 'interactions/train/epoch_' + str(n_epochs) + '/interaction_gpu0')\n",
    "        path_to_interaction_val = (path_to_run + 'interactions/validation/epoch_' + str(n_epochs) + '/interaction_gpu0')\n",
    "        path_to_interaction_test = (path_to_run + 'interactions/' + str(zero_shot_test_ds) +'/epoch_0/interaction_gpu0')\n",
    "        interaction_train = torch.load(path_to_interaction_train)\n",
    "        interaction_val = torch.load(path_to_interaction_val)\n",
    "        interaction_test = torch.load(path_to_interaction_test)\n",
    "        \n",
    "        concepts_train = objects_to_concepts(interaction_train.sender_input, n_values=n_values[i])\n",
    "        concepts_val = objects_to_concepts(interaction_val.sender_input, n_values=n_values[i])\n",
    "        concepts_test = objects_to_concepts(interaction_test.sender_input, n_values=n_values[i])\n",
    "        \n",
    "        messages_train = retrieve_messages(interaction_train)\n",
    "        messages_val = retrieve_messages(interaction_val)\n",
    "        messages_test = retrieve_messages(interaction_test)\n",
    "    \n",
    "        symbol_counts_train = count_symbols(messages_train)\n",
    "        symbol_counts_val = count_symbols(messages_val)\n",
    "        symbol_counts_test = count_symbols(messages_test)\n",
    "        symbol_counts = [symbol_counts_train, symbol_counts_val, symbol_counts_test]\n",
    "        pickle.dump(symbol_counts, open(path_to_run + 'symbol_counts_' + str(zero_shot_test_ds) + '.pkl', 'wb'))\n",
    "        actual_vocab_size = len(symbol_counts_train + symbol_counts_val + symbol_counts_test)\n",
    "        print(actual_vocab_size, \"symbols from the alphabet have been actually used during training, validation and testing.\")\n",
    "        pickle.dump(actual_vocab_size, open(path_to_run + 'vocab_size_' + str(zero_shot_test_ds) + '.pkl', 'wb'))\n",
    "        \n",
    "        # consider train and validation messages together\n",
    "        messages_train_val = messages_train +  messages_val\n",
    "        # consider only unique messages\n",
    "        messages_train_val_unique = get_unique_message_set(messages_train_val)\n",
    "        #print(\"messages train val\", len(messages_train_val), len(messages_train_val_unique))\n",
    "        messages_test_unique = get_unique_message_set(messages_test)\n",
    "        #print(\"messages test\", len(messages_test), len(messages_test_unique))\n",
    "        # total messages\n",
    "        messages_total = messages_train_val +  messages_test\n",
    "        messages_total_unique = get_unique_message_set(messages_total)\n",
    "        \n",
    "        # concepts\n",
    "        concepts_train_unique = get_unique_concept_set(concepts_train)\n",
    "        concepts_val_unique = get_unique_concept_set(concepts_val)\n",
    "        concepts_test_unique = get_unique_concept_set(concepts_test)\n",
    "        #print(\"concepts\", len(concepts_test), len(concepts_test_unique))\n",
    "        concepts_total = concepts_train + concepts_val + concepts_test\n",
    "        concepts_total_unique = get_unique_concept_set(concepts_total)\n",
    "        num_of_concepts = [len(concepts_train_unique), len(concepts_val_unique), len(concepts_test_unique), len(concepts_total_unique), len(concepts_total)]\n",
    "        pickle.dump(num_of_concepts, open(path_to_run + 'num_of_concepts_' + str(zero_shot_test_ds) + '.pkl', 'wb'))\n",
    "        \n",
    "        # messages reused in testing:\n",
    "        intersection = messages_train_val_unique & messages_test_unique\n",
    "        \n",
    "        # messages only used in training:\n",
    "        difference_train = messages_train_val_unique - messages_test_unique\n",
    "        \n",
    "        # messages only used in testing:\n",
    "        difference_test = messages_test_unique - messages_train_val_unique\n",
    "        print(len(difference_test), \"novel messages used for the\", len(concepts_test_unique), \"novel concepts\")\n",
    "        \n",
    "        message_reuse = [len(intersection), len(difference_train), len(difference_test), len(concepts_test_unique), (len(difference_test)/len(concepts_test_unique)), len(messages_test_unique)]\n",
    "        pickle.dump(message_reuse, open(path_to_run + 'message_reuse_' + str(zero_shot_test_ds) + '.pkl', 'wb'))"
   ]
  },
  {
   "cell_type": "code",
   "execution_count": 139,
   "outputs": [],
   "source": [
    "message_reuse_dict = {'intersection': [], 'difference train': [], 'difference test': [], 'concepts test unique': [], 'test ratio': [], 'messages test unique': [],\n",
    "                      'reuse rate': [], 'novelty rate': [], 'total ratio': []}\n",
    "for i, d in enumerate(datasets):\n",
    "    intersection, train_difference, test_difference, test_concepts, test_ratio, test_messages, reuse_rate, novelty_rate, total_ratio = [], [], [], [], [], [], [], [], []\n",
    "    for run in range(n_runs):\n",
    "        path_to_run = paths[i] + '/' + str(setting) +'/' + str(run) + '/'\n",
    "        message_reuse = pickle.load(open(path_to_run + 'message_reuse_' + str(zero_shot_test_ds) + '.pkl', 'rb'))\n",
    "        intersection.append(message_reuse[0]) # messages reused in testing\n",
    "        train_difference.append(message_reuse[1]) # messages only used in training\n",
    "        test_difference.append(message_reuse[2]) # messages only used in testing\n",
    "        test_concepts.append(message_reuse[3]) # total number of concepts used in testing\n",
    "        test_ratio.append(message_reuse[4]) \n",
    "        test_messages.append(message_reuse[5]) # total number of messages used in testing\n",
    "        reuse_rate.append(message_reuse[0]/message_reuse[5])\n",
    "        novelty_rate.append(message_reuse[2]/message_reuse[5])\n",
    "        total_ratio.append(message_reuse[5]/message_reuse[3]) # test_messages / test_concepts (novel unique messages & concepts)\n",
    "    message_reuse_dict['intersection'].append(intersection)\n",
    "    message_reuse_dict['difference train'].append(train_difference)\n",
    "    message_reuse_dict['difference test'].append(test_difference)\n",
    "    message_reuse_dict['concepts test unique'].append(test_concepts)\n",
    "    message_reuse_dict['test ratio'].append(test_ratio)\n",
    "    message_reuse_dict['messages test unique'].append(test_messages)\n",
    "    message_reuse_dict['reuse rate'].append(reuse_rate)\n",
    "    message_reuse_dict['novelty rate'].append(novelty_rate)\n",
    "    message_reuse_dict['total ratio'].append(total_ratio)"
   ],
   "metadata": {
    "collapsed": false,
    "ExecuteTime": {
     "end_time": "2024-10-11T14:41:08.195418Z",
     "start_time": "2024-10-11T14:41:08.187332Z"
    }
   }
  },
  {
   "cell_type": "code",
   "execution_count": 140,
   "outputs": [
    {
     "name": "stdout",
     "output_type": "stream",
     "text": [
      "\\begin{tabular}{llllll}\n",
      "\\toprule\n",
      "{} & test concepts &   test messages & message-concept ratio &       reuse rate &     novelty rate \\\\\n",
      "\\midrule\n",
      "D(3,4)  &            12 &  11.8 $\\pm$ 0.4 &       0.98 $\\pm$ 0.03 &  0.80 $\\pm$ 0.19 &  0.20 $\\pm$ 0.19 \\\\\n",
      "D(3,8)  &            24 &  22.2 $\\pm$ 0.4 &       0.93 $\\pm$ 0.02 &  0.83 $\\pm$ 0.07 &  0.17 $\\pm$ 0.07 \\\\\n",
      "D(3,16) &            48 &  44.4 $\\pm$ 0.8 &       0.93 $\\pm$ 0.02 &  0.75 $\\pm$ 0.06 &  0.25 $\\pm$ 0.06 \\\\\n",
      "D(4,4)  &            16 &  15.6 $\\pm$ 0.8 &       0.97 $\\pm$ 0.05 &  0.74 $\\pm$ 0.14 &  0.26 $\\pm$ 0.14 \\\\\n",
      "D(4,8)  &            32 &  28.8 $\\pm$ 3.1 &       0.90 $\\pm$ 0.10 &  0.93 $\\pm$ 0.06 &  0.07 $\\pm$ 0.06 \\\\\n",
      "D(5,4)  &            20 &  19.6 $\\pm$ 0.5 &       0.98 $\\pm$ 0.02 &  1.00 $\\pm$ 0.00 &  0.00 $\\pm$ 0.00 \\\\\n",
      "\\bottomrule\n",
      "\\end{tabular}\n"
     ]
    },
    {
     "name": "stderr",
     "output_type": "stream",
     "text": [
      "/var/folders/k6/03rlh8jd6nqbws0_xg9jh20w0000gq/T/ipykernel_9677/4058811893.py:35: FutureWarning: In future versions `DataFrame.to_latex` is expected to utilise the base implementation of `Styler.to_latex` for formatting and rendering. The arguments signature may therefore change. It is recommended instead to use `DataFrame.style.to_latex` which also contains additional functionality.\n",
      "  latex_table = df.to_latex(index=True, escape=False)\n"
     ]
    }
   ],
   "source": [
    "message_reuse = [message_reuse_dict['concepts test unique'], message_reuse_dict['messages test unique'], message_reuse_dict['total ratio'], message_reuse_dict['reuse rate'], message_reuse_dict['novelty rate']]\n",
    "\n",
    "# Convert the list to a NumPy array\n",
    "mess_reuse_array = np.array(message_reuse)\n",
    "\n",
    "# Compute means and standard deviations over the five runs\n",
    "means = np.mean(mess_reuse_array, axis=-1)\n",
    "std_devs = np.std(mess_reuse_array, axis=-1)\n",
    "\n",
    "# Row names and column names\n",
    "row_names = [\"D(3,4)\", \"D(3,8)\", \"D(3,16)\", \"D(4,4)\", \"D(4,8)\", \"D(5,4)\"]\n",
    "col_names = [\"test concepts\", \"test messages\", \"message-concept ratio\", \"reuse rate\",\"novelty rate\"]\n",
    "\n",
    "# Prepare the data for the DataFrames\n",
    "data = []\n",
    "\n",
    "# iterate over datasets\n",
    "for i in range(means.shape[1]):\n",
    "    row = []\n",
    "    # iterate over conditions\n",
    "    for j in range(means.shape[0]):\n",
    "        if j > 1:\n",
    "            formatted_value = f\"{means[j, i]:.2f} $\\\\pm$ {std_devs[j, i]:.2f}\"\n",
    "        elif j == 0:\n",
    "            formatted_value = f\"{int(means[j, i])}\"\n",
    "        else:\n",
    "            formatted_value = f\"{means[j, i]:.1f} $\\\\pm$ {std_devs[j, i]:.1f}\"\n",
    "        row.append(formatted_value)\n",
    "    data.append(row)\n",
    "\n",
    "# Create DataFrames\n",
    "df = pd.DataFrame(data, index=row_names, columns=col_names)\n",
    "\n",
    "# Convert DataFrames to LaTeX tables\n",
    "latex_table = df.to_latex(index=True, escape=False)\n",
    "\n",
    "print(latex_table)"
   ],
   "metadata": {
    "collapsed": false,
    "ExecuteTime": {
     "end_time": "2024-10-11T14:41:08.961963Z",
     "start_time": "2024-10-11T14:41:08.956610Z"
    }
   }
  },
  {
   "cell_type": "markdown",
   "source": [
    "### Symbol reuse\n",
    "All symbols are (re)used, i.e. they all encode relevant information. This is why a qualitative analysis of messages makes more sense."
   ],
   "metadata": {
    "collapsed": false
   }
  },
  {
   "cell_type": "code",
   "execution_count": 80,
   "outputs": [
    {
     "name": "stdout",
     "output_type": "stream",
     "text": [
      "(3,4)\n",
      "{'00': 10, '01': 14, '02': 10, '03': 14, '10': 12, '11': 2, '12': 12, '13': 4, '20': 1, '21': 3, '22': 8, '23': 6} {'00': 0.4864617121149391, '01': 0.31809888818804016, '02': 0.07395326041506703, '03': 0.14001071181742006, '10': 0.4040838988255297, '11': 0.19390815354861027, '12': 0.09202954517331902, '13': 0.10640461426172829, '20': 0.43360799313014875, '21': 0.48540994902736895, '22': 0.843152773807735, '23': 0.4893656672024036}\n",
      "\\begin{tabular}{lllrlrrr}\n",
      "\\toprule\n",
      "{} & fixed indices & fixed values &  context condition &         message &  counts &  symbols &  symbol MI \\\\\n",
      "\\midrule\n",
      "0 &           [0] &          [0] &                NaN &             NaN &     NaN &      NaN &        NaN \\\\\n",
      "0 &           NaN &          NaN &                  0 &  (10, 10, 4, 0) &       1 &      NaN &        NaN \\\\\n",
      "0 &           NaN &          NaN &                NaN &             NaN &     NaN &       10 &     0.4865 \\\\\n",
      "\\bottomrule\n",
      "\\end{tabular}\n"
     ]
    },
    {
     "name": "stderr",
     "output_type": "stream",
     "text": [
      "/var/folders/k6/03rlh8jd6nqbws0_xg9jh20w0000gq/T/ipykernel_57624/3501616567.py:79: FutureWarning: In future versions `DataFrame.to_latex` is expected to utilise the base implementation of `Styler.to_latex` for formatting and rendering. The arguments signature may therefore change. It is recommended instead to use `DataFrame.style.to_latex` which also contains additional functionality.\n",
      "  print(df.to_latex(float_format=lambda x: '{:,.0f}'.format(x) if x % 1 == 0 else '{:,.4f}'.format(x)))\n"
     ]
    },
    {
     "name": "stdout",
     "output_type": "stream",
     "text": [
      "{'00': 12, '01': 10, '02': 2, '03': 2, '10': 8, '11': 7, '12': 15, '13': 6, '20': 1, '21': 1, '22': 1, '23': 1} {'00': 0.5076952469136099, '01': 0.5339662976146126, '02': 0.13113573623483843, '03': 0.1589164480896561, '10': 0.4126539159502428, '11': 0.3257097467158606, '12': 0.4316118772835139, '13': 0.5407662034395362, '20': 0.12089150295451703, '21': 0.1105564514853039, '22': 0.07568368535857187, '23': 0.10874364975904957}\n",
      "\\begin{tabular}{lllrlrrr}\n",
      "\\toprule\n",
      "{} & fixed indices & fixed values &  context condition &         message &  counts &  symbols &  symbol MI \\\\\n",
      "\\midrule\n",
      "0 &           [0] &          [0] &                NaN &             NaN &     NaN &      NaN &        NaN \\\\\n",
      "0 &           NaN &          NaN &                  0 &  (12, 2, 11, 0) &       1 &      NaN &        NaN \\\\\n",
      "0 &           NaN &          NaN &                NaN &             NaN &     NaN &       12 &     0.5077 \\\\\n",
      "\\bottomrule\n",
      "\\end{tabular}\n",
      "\n",
      "{'00': 5, '01': 13, '02': 1, '03': 11, '10': 12, '11': 9, '12': 12, '13': 6, '20': 8, '21': 14, '22': 8, '23': 10} {'00': 0.2898957088208331, '01': 0.41389403613509124, '02': 0.5591059436202918, '03': 0.2141341735629871, '10': 0.10563329793991742, '11': 0.3803771873097383, '12': 0.6903061442237288, '13': 0.25570814108138273, '20': 0.17717405678537074, '21': 0.1820517602209452, '22': 0.14193886839547823, '23': 0.2666958590554512}\n",
      "\\begin{tabular}{lllrlrrr}\n",
      "\\toprule\n",
      "{} & fixed indices & fixed values &  context condition &          message &  counts &  symbols &  symbol MI \\\\\n",
      "\\midrule\n",
      "0 &           [0] &          [0] &                NaN &              NaN &     NaN &      NaN &        NaN \\\\\n",
      "0 &           NaN &          NaN &                  0 &  (12, 15, 15, 0) &       1 &      NaN &        NaN \\\\\n",
      "0 &           NaN &          NaN &                NaN &              NaN &     NaN &        5 &     0.2899 \\\\\n",
      "\\bottomrule\n",
      "\\end{tabular}\n"
     ]
    },
    {
     "name": "stderr",
     "output_type": "stream",
     "text": [
      "/var/folders/k6/03rlh8jd6nqbws0_xg9jh20w0000gq/T/ipykernel_57624/3501616567.py:79: FutureWarning: In future versions `DataFrame.to_latex` is expected to utilise the base implementation of `Styler.to_latex` for formatting and rendering. The arguments signature may therefore change. It is recommended instead to use `DataFrame.style.to_latex` which also contains additional functionality.\n",
      "  print(df.to_latex(float_format=lambda x: '{:,.0f}'.format(x) if x % 1 == 0 else '{:,.4f}'.format(x)))\n",
      "/var/folders/k6/03rlh8jd6nqbws0_xg9jh20w0000gq/T/ipykernel_57624/3501616567.py:79: FutureWarning: In future versions `DataFrame.to_latex` is expected to utilise the base implementation of `Styler.to_latex` for formatting and rendering. The arguments signature may therefore change. It is recommended instead to use `DataFrame.style.to_latex` which also contains additional functionality.\n",
      "  print(df.to_latex(float_format=lambda x: '{:,.0f}'.format(x) if x % 1 == 0 else '{:,.4f}'.format(x)))\n"
     ]
    },
    {
     "name": "stdout",
     "output_type": "stream",
     "text": [
      "{'00': 4, '01': 3, '02': 4, '03': 4, '10': 9, '11': 15, '12': 12, '13': 2, '20': 6, '21': 5, '22': 5, '23': 5} {'00': 0.16392180669118572, '01': 0.21847864503195494, '02': 0.15824209638204745, '03': 0.6200973094555102, '10': 0.2984878967694426, '11': 0.9031759276273484, '12': 0.4081297610350643, '13': 0.2678195391297006, '20': 0.02245599461959702, '21': 0.012759122475323853, '22': 0.02170244773624464, '23': 0.012216510445177032}\n",
      "\\begin{tabular}{lllrlrrr}\n",
      "\\toprule\n",
      "{} & fixed indices & fixed values &  context condition &       message &  counts &  symbols &  symbol MI \\\\\n",
      "\\midrule\n",
      "0 &           [0] &          [0] &                NaN &           NaN &     NaN &      NaN &        NaN \\\\\n",
      "0 &           NaN &          NaN &                  0 &  (8, 8, 8, 0) &       1 &      NaN &        NaN \\\\\n",
      "0 &           NaN &          NaN &                NaN &           NaN &     NaN &        4 &     0.1639 \\\\\n",
      "\\bottomrule\n",
      "\\end{tabular}\n",
      "\n",
      "{'00': 10, '01': 14, '02': 9, '03': 10, '10': 8, '11': 9, '12': 11, '13': 3, '20': 7, '21': 1, '22': 13, '23': 3} {'00': 0.04178857701991747, '01': 0.06953959044793635, '02': 0.07554302081732159, '03': 0.2539894982745605, '10': 0.33170827941358155, '11': 0.17675635706940074, '12': 0.137120088357585, '13': 0.05267598076247397, '20': 0.5917782921616012, '21': 0.4250463006735562, '22': 0.32809664650644177, '23': 0.14640120486733738}\n",
      "\\begin{tabular}{lllrlrrr}\n",
      "\\toprule\n",
      "{} & fixed indices & fixed values &  context condition &         message &  counts &  symbols &  symbol MI \\\\\n",
      "\\midrule\n",
      "0 &           [0] &          [0] &                NaN &             NaN &     NaN &      NaN &        NaN \\\\\n",
      "0 &           NaN &          NaN &                  0 &  (11, 14, 6, 0) &       1 &      NaN &        NaN \\\\\n",
      "0 &           NaN &          NaN &                NaN &             NaN &     NaN &       10 &     0.0418 \\\\\n",
      "\\bottomrule\n",
      "\\end{tabular}\n",
      "\n",
      "(3,8)\n"
     ]
    },
    {
     "name": "stderr",
     "output_type": "stream",
     "text": [
      "/var/folders/k6/03rlh8jd6nqbws0_xg9jh20w0000gq/T/ipykernel_57624/3501616567.py:79: FutureWarning: In future versions `DataFrame.to_latex` is expected to utilise the base implementation of `Styler.to_latex` for formatting and rendering. The arguments signature may therefore change. It is recommended instead to use `DataFrame.style.to_latex` which also contains additional functionality.\n",
      "  print(df.to_latex(float_format=lambda x: '{:,.0f}'.format(x) if x % 1 == 0 else '{:,.4f}'.format(x)))\n",
      "/var/folders/k6/03rlh8jd6nqbws0_xg9jh20w0000gq/T/ipykernel_57624/3501616567.py:79: FutureWarning: In future versions `DataFrame.to_latex` is expected to utilise the base implementation of `Styler.to_latex` for formatting and rendering. The arguments signature may therefore change. It is recommended instead to use `DataFrame.style.to_latex` which also contains additional functionality.\n",
      "  print(df.to_latex(float_format=lambda x: '{:,.0f}'.format(x) if x % 1 == 0 else '{:,.4f}'.format(x)))\n"
     ]
    },
    {
     "name": "stdout",
     "output_type": "stream",
     "text": [
      "{'00': 22, '01': 8, '02': 27, '03': 27, '04': 22, '05': 26, '06': 22, '07': 27, '10': 16, '11': 12, '12': 12, '13': 9, '14': 12, '15': 9, '16': 1, '17': 9, '20': 17, '21': 7, '22': 4, '23': 5, '24': 3, '25': 4, '26': 2, '27': 24} {'00': 0.38112030087378296, '01': 0.24457797566408285, '02': 0.06799364592085003, '03': 0.05250720913303133, '04': 0.09203567790798926, '05': 0.29040367393872624, '06': 0.0299745653133318, '07': 0.06067268354117428, '10': 0.21711513220393125, '11': 0.04770419285858416, '12': 0.04128135200773417, '13': 0.03224445021217463, '14': 0.04476153416942733, '15': 0.1722702975150193, '16': 0.05671534031719098, '17': 0.03327384307462585, '20': 0.6309863284789592, '21': 0.5653769658800445, '22': 0.1838092289266319, '23': 0.2336731407143899, '24': 0.4436426425083758, '25': 0.1788047630433487, '26': 0.18910803952105226, '27': 0.446587869839587}\n",
      "\\begin{tabular}{lllrlrrr}\n",
      "\\toprule\n",
      "{} & fixed indices & fixed values &  context condition &         message &  counts &  symbols &  symbol MI \\\\\n",
      "\\midrule\n",
      "0 &           [0] &          [1] &                NaN &             NaN &     NaN &      NaN &        NaN \\\\\n",
      "0 &           NaN &          NaN &                  0 &  (12, 1, 13, 0) &       1 &      NaN &        NaN \\\\\n",
      "0 &           NaN &          NaN &                NaN &             NaN &     NaN &        8 &     0.2446 \\\\\n",
      "\\bottomrule\n",
      "\\end{tabular}\n"
     ]
    },
    {
     "name": "stderr",
     "output_type": "stream",
     "text": [
      "/var/folders/k6/03rlh8jd6nqbws0_xg9jh20w0000gq/T/ipykernel_57624/3501616567.py:79: FutureWarning: In future versions `DataFrame.to_latex` is expected to utilise the base implementation of `Styler.to_latex` for formatting and rendering. The arguments signature may therefore change. It is recommended instead to use `DataFrame.style.to_latex` which also contains additional functionality.\n",
      "  print(df.to_latex(float_format=lambda x: '{:,.0f}'.format(x) if x % 1 == 0 else '{:,.4f}'.format(x)))\n"
     ]
    },
    {
     "name": "stdout",
     "output_type": "stream",
     "text": [
      "{'00': 13, '01': 10, '02': 14, '03': 4, '04': 9, '05': 10, '06': 8, '07': 2, '10': 25, '11': 20, '12': 12, '13': 3, '14': 3, '15': 21, '16': 22, '17': 7, '20': 27, '21': 27, '22': 17, '23': 27, '24': 27, '25': 17, '26': 27, '27': 27} {'00': 0.8494707049061786, '01': 0.1441008652961249, '02': 0.33654861257300506, '03': 0.473018422392505, '04': 0.24008699910253456, '05': 0.13179867597381117, '06': 0.1479387283052399, '07': 0.4928843135104039, '10': 0.5058254731314534, '11': 0.1885909851041448, '12': 0.2190664180708313, '13': 0.26363491125634336, '14': 0.2509991499863949, '15': 0.5257919419639364, '16': 0.16601608009120283, '17': 0.3447288195497539, '20': 0.04624511689921589, '21': 0.0183062440455684, '22': 0.013844409736312274, '23': 0.04353065666960772, '24': 0.018406949127148308, '25': 0.013478531568847584, '26': 0.018286074785776436, '27': 0.01853417875004365}\n",
      "\\begin{tabular}{lllrlrrr}\n",
      "\\toprule\n",
      "{} & fixed indices & fixed values &  context condition &        message &  counts &  symbols &  symbol MI \\\\\n",
      "\\midrule\n",
      "0 &           [0] &          [1] &                NaN &            NaN &     NaN &      NaN &        NaN \\\\\n",
      "0 &           NaN &          NaN &                  0 &  (10, 6, 6, 0) &       1 &      NaN &        NaN \\\\\n",
      "0 &           NaN &          NaN &                NaN &            NaN &     NaN &       10 &     0.1441 \\\\\n",
      "\\bottomrule\n",
      "\\end{tabular}\n"
     ]
    },
    {
     "name": "stderr",
     "output_type": "stream",
     "text": [
      "/var/folders/k6/03rlh8jd6nqbws0_xg9jh20w0000gq/T/ipykernel_57624/3501616567.py:79: FutureWarning: In future versions `DataFrame.to_latex` is expected to utilise the base implementation of `Styler.to_latex` for formatting and rendering. The arguments signature may therefore change. It is recommended instead to use `DataFrame.style.to_latex` which also contains additional functionality.\n",
      "  print(df.to_latex(float_format=lambda x: '{:,.0f}'.format(x) if x % 1 == 0 else '{:,.4f}'.format(x)))\n"
     ]
    },
    {
     "name": "stdout",
     "output_type": "stream",
     "text": [
      "{'00': 14, '01': 10, '02': 1, '03': 9, '04': 10, '05': 17, '06': 19, '07': 22, '10': 27, '11': 16, '12': 8, '13': 16, '14': 8, '15': 24, '16': 27, '17': 24, '20': 11, '21': 11, '22': 11, '23': 21, '24': 1, '25': 11, '26': 11, '27': 11} {'00': 0.4247039902389768, '01': 0.3505369329631792, '02': 0.14795292478176553, '03': 0.30892721181482924, '04': 0.20255584566810383, '05': 0.38374514359523787, '06': 0.09369872873995552, '07': 0.2592604803580944, '10': 0.3300805180011502, '11': 0.10789781377904065, '12': 0.22295727324855222, '13': 0.10306406842203922, '14': 0.07410990493578262, '15': 0.1125603141401604, '16': 0.21650423012995923, '17': 0.13351343423218257, '20': 0.046271470878919245, '21': 0.1605486346796977, '22': 0.1557799592867058, '23': 0.018032402065992697, '24': 0.01924414907281076, '25': 0.046718054643311316, '26': 0.04586057647625524, '27': 0.019389514975754484}\n",
      "\\begin{tabular}{lllrlrrr}\n",
      "\\toprule\n",
      "{} & fixed indices & fixed values &  context condition &          message &  counts &  symbols &  symbol MI \\\\\n",
      "\\midrule\n",
      "0 &           [0] &          [1] &                NaN &              NaN &     NaN &      NaN &        NaN \\\\\n",
      "0 &           NaN &          NaN &                  0 &  (26, 10, 26, 0) &       1 &      NaN &        NaN \\\\\n",
      "0 &           NaN &          NaN &                NaN &              NaN &     NaN &       10 &     0.3505 \\\\\n",
      "\\bottomrule\n",
      "\\end{tabular}\n"
     ]
    },
    {
     "name": "stderr",
     "output_type": "stream",
     "text": [
      "/var/folders/k6/03rlh8jd6nqbws0_xg9jh20w0000gq/T/ipykernel_57624/3501616567.py:79: FutureWarning: In future versions `DataFrame.to_latex` is expected to utilise the base implementation of `Styler.to_latex` for formatting and rendering. The arguments signature may therefore change. It is recommended instead to use `DataFrame.style.to_latex` which also contains additional functionality.\n",
      "  print(df.to_latex(float_format=lambda x: '{:,.0f}'.format(x) if x % 1 == 0 else '{:,.4f}'.format(x)))\n"
     ]
    },
    {
     "name": "stdout",
     "output_type": "stream",
     "text": [
      "{'00': 21, '01': 26, '02': 4, '03': 26, '04': 26, '05': 26, '06': 24, '07': 4, '10': 10, '11': 16, '12': 11, '13': 23, '14': 23, '15': 23, '16': 17, '17': 27, '20': 12, '21': 1, '22': 18, '23': 2, '24': 6, '25': 14, '26': 13, '27': 14} {'00': 0.28327329074095975, '01': 0.022975135712959723, '02': 0.08181174314682223, '03': 0.023036458649548695, '04': 0.022808364942629264, '05': 0.022834728974543455, '06': 0.062075252470320065, '07': 0.07136651378360541, '10': 0.07436427030952604, '11': 0.14912428287182553, '12': 0.07898658526758646, '13': 0.04314087584353984, '14': 0.12761157353587843, '15': 0.12339592155582647, '16': 0.10513644791256159, '17': 0.14664625527829786, '20': 0.14714384977349035, '21': 0.17392124036697768, '22': 0.17466868317163123, '23': 0.2559784051931728, '24': 0.14791594306653838, '25': 0.051641446309371904, '26': 0.20126174803860772, '27': 0.07902599749792634}\n",
      "\\begin{tabular}{lllrlrrr}\n",
      "\\toprule\n",
      "{} & fixed indices & fixed values &  context condition &          message &  counts &  symbols &  symbol MI \\\\\n",
      "\\midrule\n",
      "0 &           [0] &          [1] &                NaN &              NaN &     NaN &      NaN &        NaN \\\\\n",
      "0 &           NaN &          NaN &                  0 &  (17, 11, 11, 0) &       1 &      NaN &        NaN \\\\\n",
      "0 &           NaN &          NaN &                NaN &              NaN &     NaN &       26 &     0.0230 \\\\\n",
      "\\bottomrule\n",
      "\\end{tabular}\n"
     ]
    },
    {
     "name": "stderr",
     "output_type": "stream",
     "text": [
      "/var/folders/k6/03rlh8jd6nqbws0_xg9jh20w0000gq/T/ipykernel_57624/3501616567.py:79: FutureWarning: In future versions `DataFrame.to_latex` is expected to utilise the base implementation of `Styler.to_latex` for formatting and rendering. The arguments signature may therefore change. It is recommended instead to use `DataFrame.style.to_latex` which also contains additional functionality.\n",
      "  print(df.to_latex(float_format=lambda x: '{:,.0f}'.format(x) if x % 1 == 0 else '{:,.4f}'.format(x)))\n"
     ]
    },
    {
     "name": "stdout",
     "output_type": "stream",
     "text": [
      "{'00': 25, '01': 6, '02': 22, '03': 18, '04': 14, '05': 11, '06': 20, '07': 11, '10': 3, '11': 2, '12': 26, '13': 3, '14': 26, '15': 5, '16': 2, '17': 21, '20': 13, '21': 12, '22': 6, '23': 12, '24': 24, '25': 12, '26': 24, '27': 10} {'00': 0.12023552460922064, '01': 0.2256502300436601, '02': 0.6614835244971602, '03': 0.18421200249759512, '04': 0.17096903041042139, '05': 0.06435659879255583, '06': 0.162666582709179, '07': 0.2580086483545505, '10': 0.08904425711516166, '11': 0.06823889427212923, '12': 0.0733111943151581, '13': 0.08076015160977217, '14': 0.052562096752438475, '15': 0.06746501176177329, '16': 0.07688924461928504, '17': 0.05903004312392091, '20': 0.07960677228604354, '21': 0.07185463459978933, '22': 0.13486470903969755, '23': 0.10268322854156345, '24': 0.04169718764512117, '25': 0.10309579237424253, '26': 0.29508267984959896, '27': 0.09782113998562844}\n",
      "\\begin{tabular}{lllrlrrr}\n",
      "\\toprule\n",
      "{} & fixed indices & fixed values &  context condition &         message &  counts &  symbols &  symbol MI \\\\\n",
      "\\midrule\n",
      "0 &           [0] &          [1] &                NaN &             NaN &     NaN &      NaN &        NaN \\\\\n",
      "0 &           NaN &          NaN &                  0 &  (6, 24, 22, 0) &       1 &      NaN &        NaN \\\\\n",
      "0 &           NaN &          NaN &                NaN &             NaN &     NaN &        6 &     0.2257 \\\\\n",
      "\\bottomrule\n",
      "\\end{tabular}\n",
      "\n",
      "(3,16)\n"
     ]
    },
    {
     "name": "stderr",
     "output_type": "stream",
     "text": [
      "/var/folders/k6/03rlh8jd6nqbws0_xg9jh20w0000gq/T/ipykernel_57624/3501616567.py:79: FutureWarning: In future versions `DataFrame.to_latex` is expected to utilise the base implementation of `Styler.to_latex` for formatting and rendering. The arguments signature may therefore change. It is recommended instead to use `DataFrame.style.to_latex` which also contains additional functionality.\n",
      "  print(df.to_latex(float_format=lambda x: '{:,.0f}'.format(x) if x % 1 == 0 else '{:,.4f}'.format(x)))\n"
     ]
    },
    {
     "name": "stdout",
     "output_type": "stream",
     "text": [
      "{'00': 42, '01': 33, '02': 9, '03': 29, '04': 33, '05': 39, '06': 39, '07': 10, '08': 9, '09': 21, '010': 29, '011': 10, '012': 41, '013': 39, '014': 14, '015': 42, '10': 10, '11': 48, '12': 32, '13': 31, '14': 33, '15': 32, '16': 48, '17': 20, '18': 32, '19': 20, '110': 33, '111': 10, '112': 23, '113': 10, '114': 23, '115': 38, '20': 19, '21': 46, '22': 18, '23': 36, '24': 35, '25': 48, '26': 18, '27': 18, '28': 40, '29': 19, '210': 15, '211': 19, '212': 19, '213': 15, '214': 36, '215': 17} {'00': 0.0602975868688038, '01': 0.02869324328332799, '02': 0.043469687330936764, '03': 0.017091033702505937, '04': 0.026394608520758745, '05': 0.022700701280225544, '06': 0.021390154784387733, '07': 0.026335130495749964, '08': 0.047055062615916285, '09': 0.05964957040274386, '010': 0.03372003202961466, '011': 0.026179912876954883, '012': 0.18756006133642228, '013': 0.02914850595720058, '014': 0.1820406453365558, '015': 0.06507661247333298, '10': 0.0573606638104394, '11': 0.029320403970165075, '12': 0.09194506032826513, '13': 0.04541924734369257, '14': 0.06516940796427695, '15': 0.12176384992243039, '16': 0.02695534801753793, '17': 0.08213011511036343, '18': 0.11398713450829422, '19': 0.13939670043077937, '110': 0.06525389776019497, '111': 0.05672931160137471, '112': 0.05865214874692487, '113': 0.10612285814319374, '114': 0.049376468152492074, '115': 0.14856774368598114, '20': 0.05827924842065582, '21': 0.05400753899796033, '22': 0.06645147068939541, '23': 0.058049298799741085, '24': 0.05234533240489865, '25': 0.055516792792768145, '26': 0.06220989747268966, '27': 0.06886604065822768, '28': 0.2758275732038739, '29': 0.05823682635896632, '210': 0.09867229416320693, '211': 0.061708915751748035, '212': 0.04807734479164526, '213': 0.0819349387882234, '214': 0.05536614795553096, '215': 0.05597919622813421}\n",
      "\\begin{tabular}{lllrlrrr}\n",
      "\\toprule\n",
      "{} & fixed indices & fixed values &  context condition &          message &  counts &  symbols &  symbol MI \\\\\n",
      "\\midrule\n",
      "0 &           [2] &          [2] &                NaN &              NaN &     NaN &      NaN &        NaN \\\\\n",
      "0 &           NaN &          NaN &                  0 &  (18, 13, 28, 0) &       1 &      NaN &        NaN \\\\\n",
      "0 &           NaN &          NaN &                NaN &              NaN &     NaN &       18 &     0.0665 \\\\\n",
      "\\bottomrule\n",
      "\\end{tabular}\n"
     ]
    },
    {
     "name": "stderr",
     "output_type": "stream",
     "text": [
      "/var/folders/k6/03rlh8jd6nqbws0_xg9jh20w0000gq/T/ipykernel_57624/3501616567.py:79: FutureWarning: In future versions `DataFrame.to_latex` is expected to utilise the base implementation of `Styler.to_latex` for formatting and rendering. The arguments signature may therefore change. It is recommended instead to use `DataFrame.style.to_latex` which also contains additional functionality.\n",
      "  print(df.to_latex(float_format=lambda x: '{:,.0f}'.format(x) if x % 1 == 0 else '{:,.4f}'.format(x)))\n"
     ]
    },
    {
     "name": "stdout",
     "output_type": "stream",
     "text": [
      "{'00': 44, '01': 28, '02': 14, '03': 14, '04': 22, '05': 20, '06': 22, '07': 14, '08': 14, '09': 20, '010': 28, '011': 44, '012': 43, '013': 3, '014': 46, '015': 46, '10': 32, '11': 32, '12': 51, '13': 10, '14': 30, '15': 13, '16': 47, '17': 29, '18': 32, '19': 47, '110': 10, '111': 11, '112': 32, '113': 13, '114': 13, '115': 9, '20': 33, '21': 33, '22': 7, '23': 33, '24': 41, '25': 33, '26': 18, '27': 33, '28': 33, '29': 7, '210': 18, '211': 18, '212': 18, '213': 41, '214': 33, '215': 33} {'00': 0.06476301961442679, '01': 0.11089038767346561, '02': 0.05050845893364428, '03': 0.05280848583715427, '04': 0.16730612469374895, '05': 0.05430454701678422, '06': 0.18399599936931704, '07': 0.053194649265569445, '08': 0.051564486544860406, '09': 0.05199287325622235, '010': 0.11180441587428, '011': 0.06609324069541156, '012': 0.4287479848783573, '013': 0.18647993567000953, '014': 0.08577678109933698, '015': 0.10365960350282583, '10': 0.060624032781614115, '11': 0.054570764235152905, '12': 0.5006201034810379, '13': 0.1413605038396637, '14': 0.07152195216906275, '15': 0.1726478162530743, '16': 0.09530438707480389, '17': 0.35061682026223867, '18': 0.056179533871297656, '19': 0.09960385282915717, '110': 0.12768369104867877, '111': 0.07975003944865289, '112': 0.05743968659950918, '113': 0.16843093672808335, '114': 0.1745382794506332, '115': 0.06978930980463598, '20': 0.23755285821450786, '21': 0.02706875819870358, '22': 0.03832903212043488, '23': 0.027657884855683542, '24': 0.04910365597892813, '25': 0.027688319306906215, '26': 0.04968024635655089, '27': 0.027749147012723626, '28': 0.027701841316993183, '29': 0.03873993135510192, '210': 0.049222610026349804, '211': 0.042531811736344814, '212': 0.041877427020265104, '213': 0.040588852558965036, '214': 0.18643558437799665, '215': 0.1567251820612122}\n",
      "\\begin{tabular}{lllrlrrr}\n",
      "\\toprule\n",
      "{} & fixed indices & fixed values &  context condition &         message &  counts &  symbols &  symbol MI \\\\\n",
      "\\midrule\n",
      "0 &           [2] &          [2] &                NaN &             NaN &     NaN &      NaN &        NaN \\\\\n",
      "0 &           NaN &          NaN &                  0 &  (11, 9, 10, 0) &       1 &      NaN &        NaN \\\\\n",
      "0 &           NaN &          NaN &                NaN &             NaN &     NaN &        7 &     0.0383 \\\\\n",
      "\\bottomrule\n",
      "\\end{tabular}\n"
     ]
    },
    {
     "name": "stderr",
     "output_type": "stream",
     "text": [
      "/var/folders/k6/03rlh8jd6nqbws0_xg9jh20w0000gq/T/ipykernel_57624/3501616567.py:79: FutureWarning: In future versions `DataFrame.to_latex` is expected to utilise the base implementation of `Styler.to_latex` for formatting and rendering. The arguments signature may therefore change. It is recommended instead to use `DataFrame.style.to_latex` which also contains additional functionality.\n",
      "  print(df.to_latex(float_format=lambda x: '{:,.0f}'.format(x) if x % 1 == 0 else '{:,.4f}'.format(x)))\n"
     ]
    },
    {
     "name": "stdout",
     "output_type": "stream",
     "text": [
      "{'00': 14, '01': 27, '02': 40, '03': 46, '04': 38, '05': 38, '06': 38, '07': 27, '08': 14, '09': 46, '010': 27, '011': 7, '012': 46, '013': 14, '014': 40, '015': 46, '10': 8, '11': 48, '12': 36, '13': 20, '14': 3, '15': 36, '16': 43, '17': 15, '18': 43, '19': 8, '110': 43, '111': 32, '112': 30, '113': 20, '114': 20, '115': 8, '20': 13, '21': 2, '22': 39, '23': 2, '24': 13, '25': 37, '26': 33, '27': 13, '28': 12, '29': 13, '210': 13, '211': 39, '212': 2, '213': 33, '214': 12, '215': 39} {'00': 0.10226838185457375, '01': 0.1917326095759942, '02': 0.2473931141027186, '03': 0.0664046208046839, '04': 0.21360688803860534, '05': 0.21321020092142567, '06': 0.17110036661573044, '07': 0.13262754582942463, '08': 0.10430655435543477, '09': 0.06560086660044229, '010': 0.1336111785253255, '011': 0.20670449064331908, '012': 0.07902755356890233, '013': 0.0919636798056435, '014': 0.2848204376008117, '015': 0.07071793291574625, '10': 0.07949804251737547, '11': 0.46736697641206615, '12': 0.27158789600715394, '13': 0.08447817585991071, '14': 0.6953925645735335, '15': 0.24049415489824572, '16': 0.1583865914079889, '17': 0.4816492926357427, '18': 0.11980474212005814, '19': 0.08017145686854613, '110': 0.1542468200862087, '111': 0.5168740622566302, '112': 0.7774086518089622, '113': 0.06827706309658244, '114': 0.07535052004715197, '115': 0.07601069629679981, '20': 0.03752411594154103, '21': 0.10996293155622876, '22': 0.05559716673029228, '23': 0.10849655587769472, '24': 0.04058664499826635, '25': 0.3212423519336548, '26': 0.15505842642043347, '27': 0.05664062064871226, '28': 0.0665813896278622, '29': 0.0392873508964891, '210': 0.044713897982639514, '211': 0.10418420134955012, '212': 0.10305204719001883, '213': 0.1942861306240616, '214': 0.07023326320456993, '215': 0.07629473004054997}\n",
      "\\begin{tabular}{lllrlrrr}\n",
      "\\toprule\n",
      "{} & fixed indices & fixed values &  context condition &          message &  counts &  symbols &  symbol MI \\\\\n",
      "\\midrule\n",
      "0 &           [2] &          [2] &                NaN &              NaN &     NaN &      NaN &        NaN \\\\\n",
      "0 &           NaN &          NaN &                  0 &  (39, 27, 28, 0) &       1 &      NaN &        NaN \\\\\n",
      "0 &           NaN &          NaN &                NaN &              NaN &     NaN &       39 &     0.0556 \\\\\n",
      "\\bottomrule\n",
      "\\end{tabular}\n"
     ]
    },
    {
     "name": "stderr",
     "output_type": "stream",
     "text": [
      "/var/folders/k6/03rlh8jd6nqbws0_xg9jh20w0000gq/T/ipykernel_57624/3501616567.py:79: FutureWarning: In future versions `DataFrame.to_latex` is expected to utilise the base implementation of `Styler.to_latex` for formatting and rendering. The arguments signature may therefore change. It is recommended instead to use `DataFrame.style.to_latex` which also contains additional functionality.\n",
      "  print(df.to_latex(float_format=lambda x: '{:,.0f}'.format(x) if x % 1 == 0 else '{:,.4f}'.format(x)))\n"
     ]
    },
    {
     "name": "stdout",
     "output_type": "stream",
     "text": [
      "{'00': 19, '01': 38, '02': 28, '03': 41, '04': 27, '05': 40, '06': 19, '07': 40, '08': 19, '09': 19, '010': 38, '011': 27, '012': 40, '013': 8, '014': 38, '015': 38, '10': 42, '11': 34, '12': 45, '13': 43, '14': 43, '15': 25, '16': 14, '17': 37, '18': 43, '19': 20, '110': 4, '111': 23, '112': 4, '113': 43, '114': 43, '115': 45, '20': 51, '21': 16, '22': 7, '23': 51, '24': 51, '25': 7, '26': 51, '27': 50, '28': 7, '29': 5, '210': 50, '211': 51, '212': 51, '213': 16, '214': 16, '215': 51} {'00': 0.07263521668260174, '01': 0.05028671815562702, '02': 0.4371981200081905, '03': 0.0403787459237803, '04': 0.2683783204631483, '05': 0.04762442248272809, '06': 0.06547712580127701, '07': 0.04086897807871746, '08': 0.06214712721125247, '09': 0.03217775722173702, '010': 0.04522790658703674, '011': 0.2699211054840441, '012': 0.04723001185641322, '013': 0.028434082873334574, '014': 0.06060085187083052, '015': 0.04908262612520385, '10': 0.054305977449965376, '11': 0.04683932102637591, '12': 0.0524029632793137, '13': 0.022576472106027992, '14': 0.15199176027028477, '15': 0.5513081028137602, '16': 0.09869157283952461, '17': 0.4199173295676371, '18': 0.16062148615804742, '19': 0.19689424490092017, '110': 0.04110645645080113, '111': 0.05469086867733858, '112': 0.04348768790423975, '113': 0.02248506804791491, '114': 0.022461534595929554, '115': 0.05838846078917602, '20': 0.0574694637041799, '21': 0.07347728087830468, '22': 0.1542801180209414, '23': 0.05066561472995623, '24': 0.027881052730153153, '25': 0.1754108233600788, '26': 0.0615768350833046, '27': 0.1409096699076532, '28': 0.15969053588124982, '29': 0.028996620057541236, '210': 0.13153766177151666, '211': 0.06780339878054872, '212': 0.05435513661901721, '213': 0.08385889396017635, '214': 0.10204345268896607, '215': 0.028028120776792814}\n",
      "\\begin{tabular}{lllrlrrr}\n",
      "\\toprule\n",
      "{} & fixed indices & fixed values &  context condition &         message &  counts &  symbols &  symbol MI \\\\\n",
      "\\midrule\n",
      "0 &           [2] &          [2] &                NaN &             NaN &     NaN &      NaN &        NaN \\\\\n",
      "0 &           NaN &          NaN &                  0 &  (36, 7, 29, 0) &       1 &      NaN &        NaN \\\\\n",
      "0 &           NaN &          NaN &                NaN &             NaN &     NaN &        7 &     0.1543 \\\\\n",
      "\\bottomrule\n",
      "\\end{tabular}\n"
     ]
    },
    {
     "name": "stderr",
     "output_type": "stream",
     "text": [
      "/var/folders/k6/03rlh8jd6nqbws0_xg9jh20w0000gq/T/ipykernel_57624/3501616567.py:79: FutureWarning: In future versions `DataFrame.to_latex` is expected to utilise the base implementation of `Styler.to_latex` for formatting and rendering. The arguments signature may therefore change. It is recommended instead to use `DataFrame.style.to_latex` which also contains additional functionality.\n",
      "  print(df.to_latex(float_format=lambda x: '{:,.0f}'.format(x) if x % 1 == 0 else '{:,.4f}'.format(x)))\n"
     ]
    },
    {
     "name": "stdout",
     "output_type": "stream",
     "text": [
      "{'00': 10, '01': 38, '02': 10, '03': 10, '04': 10, '05': 38, '06': 38, '07': 10, '08': 38, '09': 42, '010': 42, '011': 40, '012': 40, '013': 10, '014': 44, '015': 42, '10': 3, '11': 12, '12': 12, '13': 1, '14': 47, '15': 41, '16': 47, '17': 4, '18': 26, '19': 4, '110': 20, '111': 13, '112': 43, '113': 20, '114': 1, '115': 37, '20': 5, '21': 30, '22': 18, '23': 30, '24': 2, '25': 30, '26': 18, '27': 28, '28': 30, '29': 14, '210': 30, '211': 5, '212': 5, '213': 5, '214': 5, '215': 15} {'00': 0.021470513206095936, '01': 0.03789482598907705, '02': 0.022949104176881268, '03': 0.03025855643325017, '04': 0.025770618555234628, '05': 0.04221316897927684, '06': 0.03443045094431267, '07': 0.027065969006921077, '08': 0.050007134931989695, '09': 0.1016386347365898, '010': 0.09948902887993652, '011': 0.15924004873504574, '012': 0.173570372466299, '013': 0.030551822630301966, '014': 0.4172999085270478, '015': 0.09620543594472504, '10': 0.08764331192628251, '11': 0.16589064664696218, '12': 0.14664584886364643, '13': 0.12458489347905813, '14': 0.2217011114593959, '15': 0.46257870046333366, '16': 0.19590207189653044, '17': 0.14149581021679905, '18': 0.02150690742162004, '19': 0.16264489896731138, '110': 0.11465123271334948, '111': 0.024446166052584917, '112': 0.3213856965057931, '113': 0.13555321510318105, '114': 0.12779649560952244, '115': 0.022687856267624224, '20': 0.05120581687974189, '21': 0.05192147382632689, '22': 0.08343787170684118, '23': 0.0535178698157974, '24': 0.1524270879853685, '25': 0.04658045710546825, '26': 0.07789931689704797, '27': 0.19928530404313652, '28': 0.04661191941558512, '29': 0.2795558725321973, '210': 0.058074545916425836, '211': 0.036442962696447985, '212': 0.05591225710372407, '213': 0.04087130462080149, '214': 0.03924068459620449, '215': 0.2954676358992938}\n",
      "\\begin{tabular}{lllrlrrr}\n",
      "\\toprule\n",
      "{} & fixed indices & fixed values &  context condition &         message &  counts &  symbols &  symbol MI \\\\\n",
      "\\midrule\n",
      "0 &           [2] &          [2] &                NaN &             NaN &     NaN &      NaN &        NaN \\\\\n",
      "0 &           NaN &          NaN &                  0 &  (35, 13, 8, 0) &       1 &      NaN &        NaN \\\\\n",
      "0 &           NaN &          NaN &                NaN &             NaN &     NaN &       18 &     0.0834 \\\\\n",
      "\\bottomrule\n",
      "\\end{tabular}\n",
      "\n",
      "(4,4)\n"
     ]
    },
    {
     "name": "stderr",
     "output_type": "stream",
     "text": [
      "/var/folders/k6/03rlh8jd6nqbws0_xg9jh20w0000gq/T/ipykernel_57624/3501616567.py:79: FutureWarning: In future versions `DataFrame.to_latex` is expected to utilise the base implementation of `Styler.to_latex` for formatting and rendering. The arguments signature may therefore change. It is recommended instead to use `DataFrame.style.to_latex` which also contains additional functionality.\n",
      "  print(df.to_latex(float_format=lambda x: '{:,.0f}'.format(x) if x % 1 == 0 else '{:,.4f}'.format(x)))\n"
     ]
    },
    {
     "name": "stdout",
     "output_type": "stream",
     "text": [
      "{'00': 2, '01': 8, '02': 6, '03': 1, '10': 3, '11': 9, '12': 3, '13': 8, '20': 4, '21': 15, '22': 4, '23': 4, '30': 3, '31': 12, '32': 7, '33': 11} {'00': 0.37677403896303197, '01': 0.144653978472202, '02': 0.18647977364417737, '03': 0.2708465581098517, '10': 0.00019081195983805226, '11': 0.000249701193406139, '12': 0.0004277348125755586, '13': 0.0003055388829879074, '20': 0.16892009665451418, '21': 0.8813604005511846, '22': 0.3339820420507414, '23': 0.08846822153418471, '30': 0.6089532009328674, '31': 0.6174682407330477, '32': 0.30188472691693286, '33': 0.11553939960586428}\n",
      "\\begin{tabular}{lllrlrrr}\n",
      "\\toprule\n",
      "{} & fixed indices & fixed values &  context condition &              message &  counts &  symbols &  symbol MI \\\\\n",
      "\\midrule\n",
      "0 &           [2] &          [1] &                NaN &                  NaN &     NaN &      NaN &        NaN \\\\\n",
      "0 &           NaN &          NaN &                  0 &  (15, 13, 15, 15, 0) &       1 &      NaN &        NaN \\\\\n",
      "0 &           NaN &          NaN &                NaN &                  NaN &     NaN &       15 &     0.8814 \\\\\n",
      "\\bottomrule\n",
      "\\end{tabular}\n"
     ]
    },
    {
     "name": "stderr",
     "output_type": "stream",
     "text": [
      "/var/folders/k6/03rlh8jd6nqbws0_xg9jh20w0000gq/T/ipykernel_57624/3501616567.py:79: FutureWarning: In future versions `DataFrame.to_latex` is expected to utilise the base implementation of `Styler.to_latex` for formatting and rendering. The arguments signature may therefore change. It is recommended instead to use `DataFrame.style.to_latex` which also contains additional functionality.\n",
      "  print(df.to_latex(float_format=lambda x: '{:,.0f}'.format(x) if x % 1 == 0 else '{:,.4f}'.format(x)))\n"
     ]
    },
    {
     "name": "stdout",
     "output_type": "stream",
     "text": [
      "{'00': 4, '01': 3, '02': 6, '03': 5, '10': 10, '11': 6, '12': 4, '13': 11, '20': 13, '21': 11, '22': 11, '23': 11, '30': 15, '31': 12, '32': 1, '33': 14} {'00': 0.15665592163816994, '01': 0.5932906700447393, '02': 0.16017168488693442, '03': 0.9345527620015485, '10': 0.6046548732899827, '11': 0.39729357540315, '12': 0.19945175247167068, '13': 0.2994035466871774, '20': 0.04754362295392134, '21': 0.28103755808990794, '22': 0.0711800844219436, '23': 0.07308102559552972, '30': 0.4095846636417665, '31': 0.6553625181453426, '32': 0.8365232858809092, '33': 0.6215348983782993}\n",
      "\\begin{tabular}{lllrlrrr}\n",
      "\\toprule\n",
      "{} & fixed indices & fixed values &  context condition &            message &  counts &  symbols &  symbol MI \\\\\n",
      "\\midrule\n",
      "0 &           [2] &          [1] &                NaN &                NaN &     NaN &      NaN &        NaN \\\\\n",
      "0 &           NaN &          NaN &                  0 &  (11, 11, 2, 2, 0) &       1 &      NaN &        NaN \\\\\n",
      "0 &           NaN &          NaN &                NaN &                NaN &     NaN &       11 &     0.2810 \\\\\n",
      "\\bottomrule\n",
      "\\end{tabular}\n"
     ]
    },
    {
     "name": "stderr",
     "output_type": "stream",
     "text": [
      "/var/folders/k6/03rlh8jd6nqbws0_xg9jh20w0000gq/T/ipykernel_57624/3501616567.py:79: FutureWarning: In future versions `DataFrame.to_latex` is expected to utilise the base implementation of `Styler.to_latex` for formatting and rendering. The arguments signature may therefore change. It is recommended instead to use `DataFrame.style.to_latex` which also contains additional functionality.\n",
      "  print(df.to_latex(float_format=lambda x: '{:,.0f}'.format(x) if x % 1 == 0 else '{:,.4f}'.format(x)))\n"
     ]
    },
    {
     "name": "stdout",
     "output_type": "stream",
     "text": [
      "{'00': 8, '01': 10, '02': 9, '03': 11, '10': 2, '11': 14, '12': 2, '13': 15, '20': 5, '21': 5, '22': 8, '23': 5, '30': 12, '31': 12, '32': 12, '33': 12} {'00': 0.4020583318481304, '01': 0.39190668751180757, '02': 0.4309519770022895, '03': 0.7652912455709121, '10': 0.7709539833126569, '11': 0.46360545511676754, '12': 0.11650791367273822, '13': 0.9758820396172937, '20': 0.0962325408989548, '21': 0.13946074890061086, '22': 0.37788763894119953, '23': 0.06835798034899113, '30': 0.2463786630578578, '31': 0.18883852540436485, '32': 0.21819836644355786, '33': 0.1879495257500109}\n",
      "\\begin{tabular}{lllrlrrr}\n",
      "\\toprule\n",
      "{} & fixed indices & fixed values &  context condition &          message &  counts &  symbols &  symbol MI \\\\\n",
      "\\midrule\n",
      "0 &           [2] &          [1] &                NaN &              NaN &     NaN &      NaN &        NaN \\\\\n",
      "0 &           NaN &          NaN &                  0 &  (5, 5, 9, 5, 0) &       1 &      NaN &        NaN \\\\\n",
      "0 &           NaN &          NaN &                NaN &              NaN &     NaN &        5 &     0.1395 \\\\\n",
      "\\bottomrule\n",
      "\\end{tabular}\n"
     ]
    },
    {
     "name": "stderr",
     "output_type": "stream",
     "text": [
      "/var/folders/k6/03rlh8jd6nqbws0_xg9jh20w0000gq/T/ipykernel_57624/3501616567.py:79: FutureWarning: In future versions `DataFrame.to_latex` is expected to utilise the base implementation of `Styler.to_latex` for formatting and rendering. The arguments signature may therefore change. It is recommended instead to use `DataFrame.style.to_latex` which also contains additional functionality.\n",
      "  print(df.to_latex(float_format=lambda x: '{:,.0f}'.format(x) if x % 1 == 0 else '{:,.4f}'.format(x)))\n"
     ]
    },
    {
     "name": "stdout",
     "output_type": "stream",
     "text": [
      "{'00': 8, '01': 13, '02': 13, '03': 12, '10': 1, '11': 11, '12': 14, '13': 4, '20': 7, '21': 4, '22': 9, '23': 3, '30': 10, '31': 10, '32': 10, '33': 6} {'00': 0.2615594287868185, '01': 0.22205448530847097, '02': 0.3069142399285031, '03': 0.4383759101319536, '10': 0.3229830472129361, '11': 0.9155528776078402, '12': 0.9509437829943276, '13': 0.2085145254230194, '20': 0.9723951503000997, '21': 0.25281679204780505, '22': 0.9029487895709382, '23': 0.9069118541267307, '30': 0.21283763268671377, '31': 0.16678548221053005, '32': 0.1691136848405693, '33': 0.2152325792368859}\n",
      "\\begin{tabular}{lllrlrrr}\n",
      "\\toprule\n",
      "{} & fixed indices & fixed values &  context condition &          message &  counts &  symbols &  symbol MI \\\\\n",
      "\\midrule\n",
      "0 &           [2] &          [1] &                NaN &              NaN &     NaN &      NaN &        NaN \\\\\n",
      "0 &           NaN &          NaN &                  0 &  (4, 5, 5, 5, 0) &       1 &      NaN &        NaN \\\\\n",
      "0 &           NaN &          NaN &                NaN &              NaN &     NaN &        4 &     0.2528 \\\\\n",
      "\\bottomrule\n",
      "\\end{tabular}\n"
     ]
    },
    {
     "name": "stderr",
     "output_type": "stream",
     "text": [
      "/var/folders/k6/03rlh8jd6nqbws0_xg9jh20w0000gq/T/ipykernel_57624/3501616567.py:79: FutureWarning: In future versions `DataFrame.to_latex` is expected to utilise the base implementation of `Styler.to_latex` for formatting and rendering. The arguments signature may therefore change. It is recommended instead to use `DataFrame.style.to_latex` which also contains additional functionality.\n",
      "  print(df.to_latex(float_format=lambda x: '{:,.0f}'.format(x) if x % 1 == 0 else '{:,.4f}'.format(x)))\n"
     ]
    },
    {
     "name": "stdout",
     "output_type": "stream",
     "text": [
      "{'00': 1, '01': 15, '02': 10, '03': 10, '10': 6, '11': 11, '12': 3, '13': 6, '20': 8, '21': 12, '22': 14, '23': 8, '30': 7, '31': 1, '32': 13, '33': 7} {'00': 0.341513161408263, '01': 0.8088262638947649, '02': 0.10258846015929575, '03': 0.8502150579583269, '10': 0.11233601718093003, '11': 0.5308522258808945, '12': 0.9050505354883904, '13': 0.947634359936959, '20': 0.34301101570234716, '21': 0.9495443754144973, '22': 0.8875961147529501, '23': 0.36006606588776463, '30': 0.07552361655361313, '31': 0.4278803779099807, '32': 0.5868209612105262, '33': 0.2072726157664745}\n",
      "\\begin{tabular}{lllrlrrr}\n",
      "\\toprule\n",
      "{} & fixed indices & fixed values &  context condition &           message &  counts &  symbols &  symbol MI \\\\\n",
      "\\midrule\n",
      "0 &           [2] &          [1] &                NaN &               NaN &     NaN &      NaN &        NaN \\\\\n",
      "0 &           NaN &          NaN &                  0 &  (9, 12, 7, 9, 0) &       1 &      NaN &        NaN \\\\\n",
      "0 &           NaN &          NaN &                NaN &               NaN &     NaN &       12 &     0.9495 \\\\\n",
      "\\bottomrule\n",
      "\\end{tabular}\n",
      "\n",
      "(4,8)\n"
     ]
    },
    {
     "name": "stderr",
     "output_type": "stream",
     "text": [
      "/var/folders/k6/03rlh8jd6nqbws0_xg9jh20w0000gq/T/ipykernel_57624/3501616567.py:79: FutureWarning: In future versions `DataFrame.to_latex` is expected to utilise the base implementation of `Styler.to_latex` for formatting and rendering. The arguments signature may therefore change. It is recommended instead to use `DataFrame.style.to_latex` which also contains additional functionality.\n",
      "  print(df.to_latex(float_format=lambda x: '{:,.0f}'.format(x) if x % 1 == 0 else '{:,.4f}'.format(x)))\n"
     ]
    },
    {
     "name": "stdout",
     "output_type": "stream",
     "text": [
      "{'00': 18, '01': 13, '02': 5, '03': 14, '04': 5, '05': 26, '06': 14, '07': 13, '10': 2, '11': 22, '12': 19, '13': 12, '14': 9, '15': 9, '16': 21, '17': 22, '20': 6, '21': 6, '22': 26, '23': 25, '24': 14, '25': 26, '26': 21, '27': 10, '30': 20, '31': 20, '32': 5, '33': 27, '34': 20, '35': 20, '36': 20, '37': 20} {'00': 0.34332778292377214, '01': 0.11795979646937889, '02': 0.11908909104206798, '03': 0.11734719836419381, '04': 0.15790302613486135, '05': 0.1388446784892507, '06': 0.1269142058842767, '07': 0.14186857992461688, '10': 0.8557321324236019, '11': 0.18588017409551583, '12': 0.052779313389842854, '13': 0.7546908247974633, '14': 0.08635112463262029, '15': 0.13400510877738378, '16': 0.1885485102516932, '17': 0.21056285737072286, '20': 0.03747605510529716, '21': 0.15559972687609547, '22': 0.1230189945242473, '23': 0.09182836378937363, '24': 0.030348948626112957, '25': 0.1311913703332494, '26': 0.022647615116218475, '27': 0.07505270460122866, '30': 0.09538761706083751, '31': 0.2726446428337281, '32': 0.15986759324615016, '33': 0.686529878733105, '34': 0.09598533530065172, '35': 0.17207331726981606, '36': 0.2103146287585284, '37': 0.09616976607351063}\n",
      "\\begin{tabular}{lllrlrrr}\n",
      "\\toprule\n",
      "{} & fixed indices & fixed values &  context condition &            message &  counts &  symbols &  symbol MI \\\\\n",
      "\\midrule\n",
      "0 &           [2] &          [1] &                NaN &                NaN &     NaN &      NaN &        NaN \\\\\n",
      "0 &           NaN &          NaN &                  0 &  (24, 10, 6, 6, 0) &       1 &      NaN &        NaN \\\\\n",
      "0 &           NaN &          NaN &                NaN &                NaN &     NaN &        6 &     0.1556 \\\\\n",
      "\\bottomrule\n",
      "\\end{tabular}\n"
     ]
    },
    {
     "name": "stderr",
     "output_type": "stream",
     "text": [
      "/var/folders/k6/03rlh8jd6nqbws0_xg9jh20w0000gq/T/ipykernel_57624/3501616567.py:79: FutureWarning: In future versions `DataFrame.to_latex` is expected to utilise the base implementation of `Styler.to_latex` for formatting and rendering. The arguments signature may therefore change. It is recommended instead to use `DataFrame.style.to_latex` which also contains additional functionality.\n",
      "  print(df.to_latex(float_format=lambda x: '{:,.0f}'.format(x) if x % 1 == 0 else '{:,.4f}'.format(x)))\n"
     ]
    },
    {
     "name": "stdout",
     "output_type": "stream",
     "text": [
      "{'00': 22, '01': 27, '02': 10, '03': 25, '04': 15, '05': 17, '06': 12, '07': 20, '10': 3, '11': 2, '12': 6, '13': 18, '14': 3, '15': 24, '16': 3, '17': 19, '20': 7, '21': 7, '22': 7, '23': 7, '24': 6, '25': 6, '26': 6, '27': 6, '30': 11, '31': 11, '32': 11, '33': 11, '34': 16, '35': 11, '36': 11, '37': 11} {'00': 0.9825290896179418, '01': 0.9744184302614595, '02': 0.048948376666592644, '03': 0.9552055690953212, '04': 0.9249166415735185, '05': 0.11032511673647302, '06': 0.28467731256368556, '07': 0.31834285884343566, '10': 0.0584438038498631, '11': 0.07506136815541796, '12': 0.06758993751051398, '13': 0.07134236958925307, '14': 0.17353834506000568, '15': 0.2315405881231998, '16': 0.057678213689760595, '17': 0.23411784184656015, '20': 0.10126809134893051, '21': 0.024598019793537845, '22': 0.08485041890992917, '23': 0.02648912143554976, '24': 0.024044471865212646, '25': 0.027028090794063975, '26': 0.02007180668381106, '27': 0.027250989279153568, '30': 0.0704257702369739, '31': 0.07059765498880755, '32': 0.07091314026919524, '33': 0.41811468198674434, '34': 0.170347725852799, '35': 0.07105645844667198, '36': 0.07062060803109414, '37': 0.42209882458462544}\n",
      "\\begin{tabular}{lllrlrrr}\n",
      "\\toprule\n",
      "{} & fixed indices & fixed values &  context condition &             message &  counts &  symbols &  symbol MI \\\\\n",
      "\\midrule\n",
      "0 &           [2] &          [1] &                NaN &                 NaN &     NaN &      NaN &        NaN \\\\\n",
      "0 &           NaN &          NaN &                  0 &  (26, 9, 21, 24, 0) &       1 &      NaN &        NaN \\\\\n",
      "0 &           NaN &          NaN &                NaN &                 NaN &     NaN &        7 &     0.0246 \\\\\n",
      "\\bottomrule\n",
      "\\end{tabular}\n"
     ]
    },
    {
     "name": "stderr",
     "output_type": "stream",
     "text": [
      "/var/folders/k6/03rlh8jd6nqbws0_xg9jh20w0000gq/T/ipykernel_57624/3501616567.py:79: FutureWarning: In future versions `DataFrame.to_latex` is expected to utilise the base implementation of `Styler.to_latex` for formatting and rendering. The arguments signature may therefore change. It is recommended instead to use `DataFrame.style.to_latex` which also contains additional functionality.\n",
      "  print(df.to_latex(float_format=lambda x: '{:,.0f}'.format(x) if x % 1 == 0 else '{:,.4f}'.format(x)))\n"
     ]
    },
    {
     "name": "stdout",
     "output_type": "stream",
     "text": [
      "{'00': 22, '01': 2, '02': 2, '03': 19, '04': 22, '05': 1, '06': 2, '07': 6, '10': 20, '11': 11, '12': 12, '13': 12, '14': 16, '15': 26, '16': 12, '17': 16, '20': 23, '21': 17, '22': 3, '23': 11, '24': 13, '25': 14, '26': 7, '27': 5, '30': 18, '31': 17, '32': 15, '33': 11, '34': 9, '35': 9, '36': 3, '37': 25} {'00': 0.19078307767284325, '01': 0.1350602904155709, '02': 0.10152238973732092, '03': 0.8406871788727661, '04': 0.11360027440826628, '05': 0.6785388828495187, '06': 0.12899379985289453, '07': 0.23555450472420567, '10': 0.8159230821701774, '11': 0.071131964975422, '12': 0.06338270916628042, '13': 0.3787689394765603, '14': 0.1722697099406835, '15': 0.799991261080693, '16': 0.2878896733004602, '17': 0.37082176365791564, '20': 0.0883766734087254, '21': 0.4700020299926773, '22': 0.45064031883305533, '23': 0.31759530669364205, '24': 0.9962347863181577, '25': 0.6785495419399055, '26': 0.9884880226580135, '27': 0.9836959870986396, '30': 0.6284464368616253, '31': 0.43059686205395, '32': 0.5793113278909132, '33': 0.24315142015119448, '34': 0.2616502574302258, '35': 0.2512408458253895, '36': 0.0933594537728539, '37': 0.12972084809544088}\n",
      "\\begin{tabular}{lllrlrrr}\n",
      "\\toprule\n",
      "{} & fixed indices & fixed values &  context condition &              message &  counts &  symbols &  symbol MI \\\\\n",
      "\\midrule\n",
      "0 &           [2] &          [1] &                NaN &                  NaN &     NaN &      NaN &        NaN \\\\\n",
      "0 &           NaN &          NaN &                  0 &  (17, 23, 23, 23, 0) &       1 &      NaN &        NaN \\\\\n",
      "0 &           NaN &          NaN &                NaN &                  NaN &     NaN &       17 &     0.4700 \\\\\n",
      "\\bottomrule\n",
      "\\end{tabular}\n"
     ]
    },
    {
     "name": "stderr",
     "output_type": "stream",
     "text": [
      "/var/folders/k6/03rlh8jd6nqbws0_xg9jh20w0000gq/T/ipykernel_57624/3501616567.py:79: FutureWarning: In future versions `DataFrame.to_latex` is expected to utilise the base implementation of `Styler.to_latex` for formatting and rendering. The arguments signature may therefore change. It is recommended instead to use `DataFrame.style.to_latex` which also contains additional functionality.\n",
      "  print(df.to_latex(float_format=lambda x: '{:,.0f}'.format(x) if x % 1 == 0 else '{:,.4f}'.format(x)))\n"
     ]
    },
    {
     "name": "stdout",
     "output_type": "stream",
     "text": [
      "{'00': 13, '01': 18, '02': 16, '03': 16, '04': 27, '05': 5, '06': 13, '07': 6, '10': 12, '11': 1, '12': 15, '13': 17, '14': 7, '15': 20, '16': 1, '17': 1, '20': 24, '21': 21, '22': 20, '23': 21, '24': 7, '25': 7, '26': 24, '27': 9, '30': 4, '31': 2, '32': 4, '33': 4, '34': 10, '35': 10, '36': 4, '37': 8} {'00': 0.39555285345618746, '01': 0.5671750750024132, '02': 0.3581350602818201, '03': 0.43780997063766497, '04': 0.33802745529912176, '05': 0.20496670692741914, '06': 0.16421406072739195, '07': 0.6901200445988819, '10': 0.338464785255051, '11': 0.15803173120349687, '12': 0.5132746870878049, '13': 0.5455672151229592, '14': 0.19805999418192338, '15': 0.21331900410953608, '16': 0.12371336693648818, '17': 0.12028380880636767, '20': 0.0623964962146493, '21': 0.10608201530325212, '22': 0.07334320775316931, '23': 0.03361327331714571, '24': 0.17665929439512296, '25': 0.21168982332473849, '26': 0.3444860527901268, '27': 0.8341875478174435, '30': 0.21097206504869795, '31': 0.4390995573534777, '32': 0.04948251487800978, '33': 0.04942626813889851, '34': 0.1288571216194298, '35': 0.1287685453678152, '36': 0.04937396812654976, '37': 0.2604177561771071}\n",
      "\\begin{tabular}{lllrlrrr}\n",
      "\\toprule\n",
      "{} & fixed indices & fixed values &  context condition &              message &  counts &  symbols &  symbol MI \\\\\n",
      "\\midrule\n",
      "0 &           [2] &          [1] &                NaN &                  NaN &     NaN &      NaN &        NaN \\\\\n",
      "0 &           NaN &          NaN &                  0 &  (14, 24, 14, 12, 0) &       1 &      NaN &        NaN \\\\\n",
      "0 &           NaN &          NaN &                NaN &                  NaN &     NaN &       21 &     0.1061 \\\\\n",
      "\\bottomrule\n",
      "\\end{tabular}\n"
     ]
    },
    {
     "name": "stderr",
     "output_type": "stream",
     "text": [
      "/var/folders/k6/03rlh8jd6nqbws0_xg9jh20w0000gq/T/ipykernel_57624/3501616567.py:79: FutureWarning: In future versions `DataFrame.to_latex` is expected to utilise the base implementation of `Styler.to_latex` for formatting and rendering. The arguments signature may therefore change. It is recommended instead to use `DataFrame.style.to_latex` which also contains additional functionality.\n",
      "  print(df.to_latex(float_format=lambda x: '{:,.0f}'.format(x) if x % 1 == 0 else '{:,.4f}'.format(x)))\n"
     ]
    },
    {
     "name": "stdout",
     "output_type": "stream",
     "text": [
      "{'00': 11, '01': 25, '02': 25, '03': 11, '04': 23, '05': 24, '06': 21, '07': 9, '10': 5, '11': 4, '12': 2, '13': 7, '14': 23, '15': 5, '16': 22, '17': 22, '20': 14, '21': 20, '22': 20, '23': 6, '24': 20, '25': 20, '26': 2, '27': 2, '30': 10, '31': 1, '32': 8, '33': 10, '34': 1, '35': 21, '36': 8, '37': 10} {'00': 0.09516166518392782, '01': 0.09048921844533561, '02': 0.08143111540630753, '03': 0.4949174848997209, '04': 0.15448127874805026, '05': 0.0539730661279713, '06': 0.0997623019702569, '07': 0.06452508326455646, '10': 0.35882239362929846, '11': 0.3810831542919229, '12': 0.09736145143334995, '13': 0.2834294044344097, '14': 0.16858203752225961, '15': 0.07046436309561022, '16': 0.25341243610097974, '17': 0.21804234356051502, '20': 0.6898958913961739, '21': 0.04686237040306495, '22': 0.2111235251612093, '23': 0.6123580771120529, '24': 0.047211043266991194, '25': 0.2022326883212163, '26': 0.07829078726830391, '27': 0.0672469633894095, '30': 0.2815096455440184, '31': 0.11122466337177335, '32': 0.18545953047413036, '33': 0.051717830923522695, '34': 0.05514131304116491, '35': 0.07265438993241381, '36': 0.22339050528022233, '37': 0.2025355939992121}\n",
      "\\begin{tabular}{lllrlrrr}\n",
      "\\toprule\n",
      "{} & fixed indices & fixed values &  context condition &              message &  counts &  symbols &  symbol MI \\\\\n",
      "\\midrule\n",
      "0 &           [2] &          [1] &                NaN &                  NaN &     NaN &      NaN &        NaN \\\\\n",
      "0 &           NaN &          NaN &                  0 &  (25, 27, 24, 21, 0) &       1 &      NaN &        NaN \\\\\n",
      "0 &           NaN &          NaN &                NaN &                  NaN &     NaN &       20 &     0.0469 \\\\\n",
      "\\bottomrule\n",
      "\\end{tabular}\n",
      "\n",
      "(5,4)\n"
     ]
    },
    {
     "name": "stderr",
     "output_type": "stream",
     "text": [
      "/var/folders/k6/03rlh8jd6nqbws0_xg9jh20w0000gq/T/ipykernel_57624/3501616567.py:79: FutureWarning: In future versions `DataFrame.to_latex` is expected to utilise the base implementation of `Styler.to_latex` for formatting and rendering. The arguments signature may therefore change. It is recommended instead to use `DataFrame.style.to_latex` which also contains additional functionality.\n",
      "  print(df.to_latex(float_format=lambda x: '{:,.0f}'.format(x) if x % 1 == 0 else '{:,.4f}'.format(x)))\n"
     ]
    },
    {
     "name": "stdout",
     "output_type": "stream",
     "text": [
      "{'00': 13, '01': 1, '02': 6, '03': 10, '10': 5, '11': 3, '12': 5, '13': 13, '20': 14, '21': 3, '22': 3, '23': 8, '30': 2, '31': 2, '32': 2, '33': 2, '40': 4, '41': 8, '42': 15, '43': 11} {'00': 0.3392075080164413, '01': 0.4543586455242603, '02': 0.873075881971005, '03': 0.3999157440101494, '10': 0.4326966389944221, '11': 0.04554653477593211, '12': 0.06902946082666177, '13': 0.22161478548103128, '20': 0.33233313341543225, '21': 0.20449936163336543, '22': 0.09292534593008868, '23': 0.0638288598446562, '30': 0.01431401585973568, '31': 0.03927518160383011, '32': 0.03268687422751659, '33': 0.03236241685762356, '40': 0.663459845893954, '41': 0.4495863672350896, '42': 0.16919411185934244, '43': 0.8661314865552924}\n",
      "\\begin{tabular}{lllrlrrr}\n",
      "\\toprule\n",
      "{} & fixed indices & fixed values &  context condition &              message &  counts &  symbols &  symbol MI \\\\\n",
      "\\midrule\n",
      "0 &           [2] &          [2] &                NaN &                  NaN &     NaN &      NaN &        NaN \\\\\n",
      "0 &           NaN &          NaN &                  0 &  (9, 9, 9, 3, 15, 0) &       1 &      NaN &        NaN \\\\\n",
      "0 &           NaN &          NaN &                NaN &                  NaN &     NaN &        3 &     0.0929 \\\\\n",
      "\\bottomrule\n",
      "\\end{tabular}\n"
     ]
    },
    {
     "name": "stderr",
     "output_type": "stream",
     "text": [
      "/var/folders/k6/03rlh8jd6nqbws0_xg9jh20w0000gq/T/ipykernel_57624/3501616567.py:79: FutureWarning: In future versions `DataFrame.to_latex` is expected to utilise the base implementation of `Styler.to_latex` for formatting and rendering. The arguments signature may therefore change. It is recommended instead to use `DataFrame.style.to_latex` which also contains additional functionality.\n",
      "  print(df.to_latex(float_format=lambda x: '{:,.0f}'.format(x) if x % 1 == 0 else '{:,.4f}'.format(x)))\n"
     ]
    },
    {
     "name": "stdout",
     "output_type": "stream",
     "text": [
      "{'00': 9, '01': 13, '02': 11, '03': 10, '10': 6, '11': 5, '12': 6, '13': 5, '20': 14, '21': 7, '22': 2, '23': 2, '30': 4, '31': 4, '32': 8, '33': 8, '40': 1, '41': 15, '42': 3, '43': 1} {'00': 0.7457798808725621, '01': 0.596764483899295, '02': 0.8270930867378682, '03': 0.33377852883307174, '10': 0.41640170034508756, '11': 0.8065407934858971, '12': 0.1567247084736314, '13': 0.09940200266772543, '20': 0.9360877990588317, '21': 0.7984481804111375, '22': 0.33648800244282684, '23': 0.1279967451745909, '30': 0.5430155108789589, '31': 0.15141092416781596, '32': 0.15170973913713962, '33': 0.267864053859302, '40': 0.22627241369230727, '41': 0.40254649523117575, '42': 0.38879613545249453, '43': 0.17985421490975548}\n",
      "\\begin{tabular}{lllrlrrr}\n",
      "\\toprule\n",
      "{} & fixed indices & fixed values &  context condition &               message &  counts &  symbols &  symbol MI \\\\\n",
      "\\midrule\n",
      "0 &           [2] &          [2] &                NaN &                   NaN &     NaN &      NaN &        NaN \\\\\n",
      "0 &           NaN &          NaN &                  0 &  (12, 12, 2, 1, 2, 0) &       1 &      NaN &        NaN \\\\\n",
      "0 &           NaN &          NaN &                NaN &                   NaN &     NaN &        2 &     0.3365 \\\\\n",
      "\\bottomrule\n",
      "\\end{tabular}\n"
     ]
    },
    {
     "name": "stderr",
     "output_type": "stream",
     "text": [
      "/var/folders/k6/03rlh8jd6nqbws0_xg9jh20w0000gq/T/ipykernel_57624/3501616567.py:79: FutureWarning: In future versions `DataFrame.to_latex` is expected to utilise the base implementation of `Styler.to_latex` for formatting and rendering. The arguments signature may therefore change. It is recommended instead to use `DataFrame.style.to_latex` which also contains additional functionality.\n",
      "  print(df.to_latex(float_format=lambda x: '{:,.0f}'.format(x) if x % 1 == 0 else '{:,.4f}'.format(x)))\n"
     ]
    },
    {
     "name": "stdout",
     "output_type": "stream",
     "text": [
      "{'00': 8, '01': 13, '02': 15, '03': 3, '10': 11, '11': 8, '12': 7, '13': 7, '20': 10, '21': 9, '22': 10, '23': 10, '30': 7, '31': 2, '32': 12, '33': 2, '40': 1, '41': 5, '42': 10, '43': 12} {'00': 0.3614621606857534, '01': 0.7672736165419681, '02': 0.9060769298222794, '03': 0.9699819659259858, '10': 0.08189778504048324, '11': 0.23646510548608018, '12': 0.34427484088947297, '13': 0.08265897352289428, '20': 0.2355293697162226, '21': 0.2516695870726613, '22': 0.12075670491544478, '23': 0.15886519656052436, '30': 0.08758382803235323, '31': 0.05548716595187329, '32': 0.2792745706375215, '33': 0.1297238087102612, '40': 0.7775467716155267, '41': 0.3397447574272732, '42': 0.10158502957196194, '43': 0.45940697934932023}\n",
      "\\begin{tabular}{lllrlrrr}\n",
      "\\toprule\n",
      "{} & fixed indices & fixed values &  context condition &             message &  counts &  symbols &  symbol MI \\\\\n",
      "\\midrule\n",
      "0 &           [2] &          [2] &                NaN &                 NaN &     NaN &      NaN &        NaN \\\\\n",
      "0 &           NaN &          NaN &                  0 &  (4, 5, 8, 4, 4, 0) &       1 &      NaN &        NaN \\\\\n",
      "0 &           NaN &          NaN &                NaN &                 NaN &     NaN &       10 &     0.1208 \\\\\n",
      "\\bottomrule\n",
      "\\end{tabular}\n"
     ]
    },
    {
     "name": "stderr",
     "output_type": "stream",
     "text": [
      "/var/folders/k6/03rlh8jd6nqbws0_xg9jh20w0000gq/T/ipykernel_57624/3501616567.py:79: FutureWarning: In future versions `DataFrame.to_latex` is expected to utilise the base implementation of `Styler.to_latex` for formatting and rendering. The arguments signature may therefore change. It is recommended instead to use `DataFrame.style.to_latex` which also contains additional functionality.\n",
      "  print(df.to_latex(float_format=lambda x: '{:,.0f}'.format(x) if x % 1 == 0 else '{:,.4f}'.format(x)))\n"
     ]
    },
    {
     "name": "stdout",
     "output_type": "stream",
     "text": [
      "{'00': 6, '01': 2, '02': 5, '03': 2, '10': 5, '11': 6, '12': 6, '13': 2, '20': 12, '21': 13, '22': 8, '23': 2, '30': 11, '31': 4, '32': 14, '33': 10, '40': 1, '41': 7, '42': 15, '43': 9} {'00': 0.1675766770288002, '01': 0.18860270650679506, '02': 0.27588562735858146, '03': 0.03711106047272884, '10': 0.26238270802975583, '11': 0.037729968889987524, '12': 0.33733302332954596, '13': 0.22276852025113522, '20': 0.8212828180353039, '21': 0.9764627697790705, '22': 0.12231937848697876, '23': 0.15556645003565592, '30': 0.6837643722676454, '31': 0.7298767996749504, '32': 0.6637157309411021, '33': 0.7288473357752928, '40': 0.9232490391007947, '41': 0.8747831395098009, '42': 0.8787003004522649, '43': 0.8325487857048027}\n",
      "\\begin{tabular}{lllrlrrr}\n",
      "\\toprule\n",
      "{} & fixed indices & fixed values &  context condition &             message &  counts &  symbols &  symbol MI \\\\\n",
      "\\midrule\n",
      "0 &           [2] &          [2] &                NaN &                 NaN &     NaN &      NaN &        NaN \\\\\n",
      "0 &           NaN &          NaN &                  0 &  (8, 8, 8, 8, 8, 0) &       1 &      NaN &        NaN \\\\\n",
      "0 &           NaN &          NaN &                NaN &                 NaN &     NaN &        8 &     0.1223 \\\\\n",
      "\\bottomrule\n",
      "\\end{tabular}\n"
     ]
    },
    {
     "name": "stderr",
     "output_type": "stream",
     "text": [
      "/var/folders/k6/03rlh8jd6nqbws0_xg9jh20w0000gq/T/ipykernel_57624/3501616567.py:79: FutureWarning: In future versions `DataFrame.to_latex` is expected to utilise the base implementation of `Styler.to_latex` for formatting and rendering. The arguments signature may therefore change. It is recommended instead to use `DataFrame.style.to_latex` which also contains additional functionality.\n",
      "  print(df.to_latex(float_format=lambda x: '{:,.0f}'.format(x) if x % 1 == 0 else '{:,.4f}'.format(x)))\n"
     ]
    },
    {
     "name": "stdout",
     "output_type": "stream",
     "text": [
      "{'00': 8, '01': 8, '02': 15, '03': 7, '10': 9, '11': 4, '12': 2, '13': 9, '20': 14, '21': 10, '22': 10, '23': 14, '30': 3, '31': 1, '32': 1, '33': 5, '40': 4, '41': 15, '42': 9, '43': 2} {'00': 0.10954319170400681, '01': 0.9755935610264024, '02': 0.37146637461462934, '03': 0.6535010186904553, '10': 0.27154712748642607, '11': 0.2786939064607155, '12': 0.38625243312836827, '13': 0.22661170701131242, '20': 0.5184383336488577, '21': 0.44041171046794825, '22': 0.09214921746842394, '23': 0.07008474854274895, '30': 0.2930429884953001, '31': 0.3085023046328236, '32': 0.21055125799205945, '33': 0.33904294884013486, '40': 0.13338221518421212, '41': 0.26978449448670044, '42': 0.09655621506330056, '43': 0.10843263619163855}\n",
      "\\begin{tabular}{lllrlrrr}\n",
      "\\toprule\n",
      "{} & fixed indices & fixed values &  context condition &                 message &  counts &  symbols &  symbol MI \\\\\n",
      "\\midrule\n",
      "0 &           [2] &          [2] &                NaN &                     NaN &     NaN &      NaN &        NaN \\\\\n",
      "0 &           NaN &          NaN &                  0 &  (13, 13, 9, 13, 13, 0) &       1 &      NaN &        NaN \\\\\n",
      "0 &           NaN &          NaN &                NaN &                     NaN &     NaN &       10 &     0.0921 \\\\\n",
      "\\bottomrule\n",
      "\\end{tabular}\n"
     ]
    },
    {
     "name": "stderr",
     "output_type": "stream",
     "text": [
      "/var/folders/k6/03rlh8jd6nqbws0_xg9jh20w0000gq/T/ipykernel_57624/3501616567.py:79: FutureWarning: In future versions `DataFrame.to_latex` is expected to utilise the base implementation of `Styler.to_latex` for formatting and rendering. The arguments signature may therefore change. It is recommended instead to use `DataFrame.style.to_latex` which also contains additional functionality.\n",
      "  print(df.to_latex(float_format=lambda x: '{:,.0f}'.format(x) if x % 1 == 0 else '{:,.4f}'.format(x)))\n"
     ]
    }
   ],
   "source": [
    "# go through all datasets\n",
    "for i, d in enumerate(datasets):\n",
    "    print(d)\n",
    "    # get random qualitative samples\n",
    "    # to specific: all indices should be fixed\n",
    "    if zero_shot_test == 'specific':\n",
    "        n_fixed = n_attributes[i]\n",
    "        fixed_indices = list(range(0, n_attributes[i])) # all attributes fixed\n",
    "        fixed_values = random.choices(range(0, n_values[i]), k=n_fixed) # define fixed values for these indices\n",
    "    # to generic: only one index fixed, which one is randomly determined\n",
    "    elif zero_shot_test == 'generic':\n",
    "        n_fixed = 1\n",
    "        fixed_indices = random.sample(range(0, n_attributes[i]), k=n_fixed) # select which attribute is fixed\n",
    "        fixed_values = random.choices(range(0, n_values[i]), k=n_fixed) # define a fixed value for this index\n",
    "    #print(fixed_indices, fixed_values)\n",
    "    for run in range(n_runs):\n",
    "        path_to_run = paths[i] + '/' + str(setting) +'/' + str(run) + '/'\n",
    "        path_to_interaction_train = (path_to_run + 'interactions/train/epoch_' + str(n_epochs) + '/interaction_gpu0')\n",
    "        path_to_interaction_val = (path_to_run + 'interactions/validation/epoch_' + str(n_epochs) + '/interaction_gpu0')\n",
    "        path_to_interaction_test = (path_to_run + 'interactions/' + str(zero_shot_test_ds) + '/epoch_0/interaction_gpu0')\n",
    "        interaction_train = torch.load(path_to_interaction_train)\n",
    "        interaction_val = torch.load(path_to_interaction_val)\n",
    "        interaction_test = torch.load(path_to_interaction_test)\n",
    "        \n",
    "        # retrieve mapping between attribute-value pairs and symbols\n",
    "        favorite_symbol, mutual_information = symbol_frequency_MI(interaction_train, n_attributes=n_attributes[i], n_values=n_values[i], vocab_size=vocab_sizes[i])\n",
    "        print(favorite_symbol, mutual_information)\n",
    "        \n",
    "        messages = interaction_test.message.argmax(dim=-1)\n",
    "        messages = [msg.tolist() for msg in messages]\n",
    "        sender_input = interaction_test.sender_input\n",
    "        n_targets = int(sender_input.shape[1]/2)\n",
    "        # get target objects and fixed vectors to re-construct concepts\n",
    "        target_objects = sender_input[:, :n_targets]\n",
    "        target_objects = k_hot_to_attributes(target_objects, n_values[i])\n",
    "        # concepts are defined by a list of target objects (here one sampled target object) and a fixed vector\n",
    "        (objects, fixed) = retrieve_concepts_sampling(target_objects, all_targets=True)\n",
    "        concepts = list(zip(objects, fixed))\n",
    "        \n",
    "        # get distractor objects to re-construct context conditions\n",
    "        distractor_objects = sender_input[:, n_targets:]\n",
    "        distractor_objects = k_hot_to_attributes(distractor_objects, n_values[i])\n",
    "        context_conds = retrieve_context_condition(objects, fixed, distractor_objects)\n",
    "        \n",
    "        all_for_this_concept = []\n",
    "        for idx, (t_objects, t_fixed) in enumerate(concepts):\n",
    "            if sum(t_fixed) == n_fixed and all(t_fixed[fixed_index] == 1 for fixed_index in fixed_indices):\n",
    "                for t_object in t_objects:\n",
    "                    if all(t_object[fixed_index] == fixed_values[j] for j, fixed_index in enumerate(fixed_indices)):\n",
    "                        all_for_this_concept.append((idx, t_object, t_fixed, context_conds[idx], messages[idx]))\n",
    "                        fixed = t_fixed\n",
    "        if len(all_for_this_concept) > 0:\n",
    "            #sample = random.sample(all_for_this_concept, 20)\n",
    "            sample = all_for_this_concept\n",
    "            column_names = ['game_nr', 'object', 'fixed indices', 'context condition', 'message']\n",
    "            sample_df = pd.DataFrame(sample, columns=column_names)\n",
    "            # find out which messages have been used how often (once in test dataset test_sampled_unscaled)\n",
    "            message_counts = sample_df.message.apply(tuple).value_counts()/10 # divide by game size because above single objects are taken, but we are interested in concepts (i.e. sets of game_size=10 objects)\n",
    "            messages = message_counts.index.tolist()\n",
    "            counts = message_counts.values.tolist()\n",
    "            cond_indices = np.arange(0, len(messages)*10, 10)\n",
    "            context_conds = sample_df['context condition'][cond_indices]\n",
    "            used_symbols = look_up_values(fixed_indices, fixed_values, favorite_symbol)\n",
    "            symbol_MI = look_up_values(fixed_indices, fixed_values, mutual_information)\n",
    "            df_concept = pd.DataFrame({\n",
    "                'fixed indices': [fixed_indices], \n",
    "                'fixed values': [fixed_values]\n",
    "            })\n",
    "            df_messages = pd.DataFrame({\n",
    "                'context condition': context_conds.values.tolist(),\n",
    "                'message': messages, \n",
    "                'counts': counts\n",
    "            })\n",
    "            df_symbols = pd.DataFrame({\n",
    "                'symbols': used_symbols, \n",
    "                'symbol MI': symbol_MI\n",
    "            })\n",
    "            df = pd.concat([df_concept, df_messages, df_symbols])\n",
    "            print(df.to_latex(float_format=lambda x: '{:,.0f}'.format(x) if x % 1 == 0 else '{:,.4f}'.format(x)))\n",
    "            # df.to_csv('analysis/' + str(zero_shot_test) + '/quali_' + str(d) + '_' + str(zero_shot_test) + '_' + str(run) + '_' + str(fixed_indices) + ',' + str(fixed_values) + 'message_symbol_counts.csv', index=False)\n",
    "            # print('saved ' + 'analysis/' + str(zero_shot_test) + '/quali_' + str(d) + '_' + str(zero_shot_test) + '_' + str(run) + '_' + str(fixed_indices) + ',' + str(fixed_values) + 'message_symbol_counts.csv')\n",
    "        else:\n",
    "            raise ValueError(\"sample for dataset \" + str(d) + \" could not be generated\")"
   ],
   "metadata": {
    "collapsed": false,
    "ExecuteTime": {
     "end_time": "2025-01-28T13:04:57.588971Z",
     "start_time": "2025-01-28T12:58:15.126930Z"
    }
   }
  }
 ],
 "metadata": {
  "kernelspec": {
   "display_name": "egg",
   "language": "python",
   "name": "python3"
  },
  "language_info": {
   "codemirror_mode": {
    "name": "ipython",
    "version": 3
   },
   "file_extension": ".py",
   "mimetype": "text/x-python",
   "name": "python",
   "nbconvert_exporter": "python",
   "pygments_lexer": "ipython3",
   "version": "3.9.15"
  },
  "orig_nbformat": 4
 },
 "nbformat": 4,
 "nbformat_minor": 2
}
